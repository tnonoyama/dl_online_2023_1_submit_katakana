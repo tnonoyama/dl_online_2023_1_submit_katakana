{
 "cells": [
  {
   "cell_type": "markdown",
   "metadata": {},
   "source": [
    "# ImageDataGeneratorを用いたデータ拡張\n",
    "https://keras.io/preprocessing/image/"
   ]
  },
  {
   "cell_type": "code",
   "execution_count": 1,
   "metadata": {},
   "outputs": [
    {
     "name": "stderr",
     "output_type": "stream",
     "text": [
      "Using TensorFlow backend.\n"
     ]
    }
   ],
   "source": [
    "import numpy as np\n",
    "from PIL import Image\n",
    "from keras.preprocessing.image import ImageDataGenerator"
   ]
  },
  {
   "cell_type": "markdown",
   "metadata": {},
   "source": [
    "## numpy形式の画像を拡張する場合"
   ]
  },
  {
   "cell_type": "code",
   "execution_count": 2,
   "metadata": {},
   "outputs": [
    {
     "name": "stdout",
     "output_type": "stream",
     "text": [
      "(1, 28, 28, 1)\n",
      "(1, 28, 28, 1)\n",
      "(1, 28, 28, 1)\n"
     ]
    }
   ],
   "source": [
    "def onehot_to_str(label):\n",
    "    \"\"\"\n",
    "    ワンホットベクトル形式のラベルをカタカナ文字に変換する\n",
    "    \"\"\"\n",
    "    dic_katakana = {\"a\":0,\"i\":1,\"u\":2,\"e\":3,\"o\":4,\"ka\":5,\"ki\":6,\"ku\":7,\"ke\":8,\"ko\":9,\"sa\":10,\"si\":11,\"su\":12,\"se\":13,\"so\":14}\n",
    "    label_int = np.argmax(label)\n",
    "    for key, value in dic_katakana.items():\n",
    "        if value==label_int:\n",
    "            return key\n",
    "    \n",
    "\n",
    "# 画像読み込み\n",
    "data = np.load(\"../../DAY1_vr6_0_0/4_kadai/1_data/train_data.npy\")  # パスは適宜変更すること\n",
    "data = data[:1]\n",
    "label = np.load(\"../../DAY1_vr6_0_0/4_kadai/1_data/train_label.npy\")  # パスは適宜変更すること\n",
    "label = label[:1]\n",
    "label = onehot_to_str(label)\n",
    "        \n",
    "# 軸をN,H,W,Cに入れ替え\n",
    "data = data.transpose(0,2,3,1)\n",
    "\n",
    "# ImageDataGeneratorのオブジェクト生成\n",
    "datagen = ImageDataGenerator(\n",
    "        rescale=1./255,\n",
    "        shear_range=0.2,\n",
    "        zoom_range=0.2,\n",
    "        horizontal_flip=True)\n",
    "\n",
    "# 生成後枚数\n",
    "num_image = 3\n",
    "\n",
    "# 生成\n",
    "g = datagen.flow(data, batch_size=1, save_to_dir=\"../1_data/imagedatagenerator/\",\n",
    "                 save_format='png', save_prefix='out_%s_from_npy_'%label)\n",
    "for i in range(num_image):\n",
    "        batches = g.next()\n",
    "        print(batches.shape)"
   ]
  },
  {
   "cell_type": "markdown",
   "metadata": {},
   "source": [
    "## pngの画像を拡張する場合"
   ]
  },
  {
   "cell_type": "code",
   "execution_count": 3,
   "metadata": {
    "scrolled": true
   },
   "outputs": [
    {
     "name": "stdout",
     "output_type": "stream",
     "text": [
      "(1, 28, 28, 1)\n",
      "(1, 28, 28, 1)\n",
      "(1, 28, 28, 1)\n"
     ]
    }
   ],
   "source": [
    "# 元画像\n",
    "fname = \"../1_data/imagedatagenerator/a_201.png\"\n",
    "pixel = 28\n",
    "\n",
    "# numpy形式に変換\n",
    "num_image = 1 # 画像枚数\n",
    "channel = 1 # グレースケール\n",
    "data = np.empty((num_image, channel, pixel, pixel)) # 配列初期化\n",
    "\n",
    "# 画像読み込み\n",
    "img_ = Image.open(fname)\n",
    "img_ = np.array(img_).astype(np.float32)\n",
    "data[0, 0, :] = img_\n",
    "\n",
    "# 軸をN,H,W,Cに入れ替え\n",
    "data = data.transpose(0,2,3,1)\n",
    "\n",
    "# ImageDataGeneratorのオブジェクト生成\n",
    "datagen = ImageDataGenerator(\n",
    "        rescale=1./255,\n",
    "        shear_range=0.2,\n",
    "        zoom_range=0.2,\n",
    "        horizontal_flip=True)\n",
    "\n",
    "# 生成後枚数\n",
    "num_image = 3\n",
    "\n",
    "# 生成\n",
    "g = datagen.flow(data, batch_size=1, save_to_dir=\"../1_data/imagedatagenerator/\", save_format='png', save_prefix='out_a_from_png_')\n",
    "for i in range(num_image):\n",
    "        batches = g.next()\n",
    "        print(batches.shape)"
   ]
  },
  {
   "cell_type": "code",
   "execution_count": null,
   "metadata": {},
   "outputs": [],
   "source": []
  }
 ],
 "metadata": {
  "kernelspec": {
   "display_name": "Python 3",
   "language": "python",
   "name": "python3"
  },
  "language_info": {
   "codemirror_mode": {
    "name": "ipython",
    "version": 3
   },
   "file_extension": ".py",
   "mimetype": "text/x-python",
   "name": "python",
   "nbconvert_exporter": "python",
   "pygments_lexer": "ipython3",
   "version": "3.7.3"
  }
 },
 "nbformat": 4,
 "nbformat_minor": 2
}
