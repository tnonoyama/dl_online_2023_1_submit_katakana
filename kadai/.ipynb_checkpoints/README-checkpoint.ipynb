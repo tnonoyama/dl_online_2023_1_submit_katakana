{
 "cells": [
  {
   "cell_type": "markdown",
   "id": "ddd3f8c4",
   "metadata": {},
   "source": [
    "README"
   ]
  },
  {
   "cell_type": "markdown",
   "id": "c6bb2009",
   "metadata": {},
   "source": [
    "・データセットの中身を確認し、目視で判別できないデータがある\n",
    "\n",
    "・対策\n",
    "　データセットから当該データを削除する"
   ]
  },
  {
   "cell_type": "markdown",
   "id": "19874828",
   "metadata": {},
   "source": [
    "・trainのloss、accuracyに対してtestのloss、accuracyが低いので  \n",
    "　データセットの水増しをしてtestのloss、accuracyが上がるか試す  \n",
    "・文字には上下左右に意味があるので、左右反転、上下反転は使わない  \n",
    "・クロップも重要な情報が欠損する恐れがあると思ったので一旦保留  \n",
    "・拡大も重要な情報が欠損する恐れがあると思ったので一旦保留  \n",
    "・縮小も元の枠外の情報を学習する恐れがあると思ったので一旦保留  \n",
    "・微小な回転  \n",
    "・歪み"
   ]
  },
  {
   "cell_type": "markdown",
   "id": "f7e70489",
   "metadata": {},
   "source": [
    "・歪み処理を加えた画像を使用すると判定が難しくなりそうなので  \n",
    "　一旦歪み処理は保留"
   ]
  },
  {
   "cell_type": "markdown",
   "id": "8fbea24c",
   "metadata": {},
   "source": [
    "・元の画像を回転させて画像を水増ししたが、  \n",
    "　目視レベルでは元の画像とほとんど変わらない気がしてしまう"
   ]
  },
  {
   "cell_type": "code",
   "execution_count": null,
   "id": "f19cba4b",
   "metadata": {},
   "outputs": [],
   "source": []
  }
 ],
 "metadata": {
  "kernelspec": {
   "display_name": "Python 3 (ipykernel)",
   "language": "python",
   "name": "python3"
  },
  "language_info": {
   "codemirror_mode": {
    "name": "ipython",
    "version": 3
   },
   "file_extension": ".py",
   "mimetype": "text/x-python",
   "name": "python",
   "nbconvert_exporter": "python",
   "pygments_lexer": "ipython3",
   "version": "3.9.12"
  }
 },
 "nbformat": 4,
 "nbformat_minor": 5
}
