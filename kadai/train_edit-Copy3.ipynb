{
 "cells": [
  {
   "cell_type": "markdown",
   "metadata": {
    "id": "MLOKQEPPaoKO"
   },
   "source": [
    "# 学習方法の例"
   ]
  },
  {
   "cell_type": "markdown",
   "metadata": {},
   "source": [
    "元データに回転を加えデータを水増し"
   ]
  },
  {
   "cell_type": "code",
   "execution_count": 1,
   "metadata": {
    "id": "yfypmyHjaoKQ"
   },
   "outputs": [],
   "source": [
    "import numpy as np\n",
    "import pandas as pd\n",
    "import matplotlib.pyplot as plt\n",
    "# from common.layers import TwoLayerNet\n",
    "from sklearn.model_selection import train_test_split\n",
    "import pickle\n",
    "import matplotlib.patheffects as pe\n",
    "import matplotlib.ticker as ticker\n",
    "import matplotlib.colors"
   ]
  },
  {
   "cell_type": "code",
   "execution_count": 2,
   "metadata": {
    "id": "tdp0Qq43aoKR"
   },
   "outputs": [],
   "source": [
    "from collections import OrderedDict\n",
    "from common.layers import Convolution, MaxPooling, ReLU, Affine, SoftmaxWithLoss, Flatten\n",
    "from common.optimizer import RMSProp"
   ]
  },
  {
   "cell_type": "markdown",
   "metadata": {
    "id": "_0uG6cHMaoKT"
   },
   "source": [
    "## データを読む1"
   ]
  },
  {
   "cell_type": "code",
   "execution_count": 46,
   "metadata": {
    "id": "xWlsYLKbaoKT",
    "outputId": "fb0e300b-a836-48be-b29a-8a23d49a0145"
   },
   "outputs": [
    {
     "name": "stdout",
     "output_type": "stream",
     "text": [
      "train_data.shape= (4793, 1, 28, 28)\n",
      "train_label.shape= (4793, 15)\n"
     ]
    }
   ],
   "source": [
    "# # train_data = np.load(\"../1_data/train_data_w_pre_prcss.npy\")\n",
    "# train_data = np.load(\"../1_data/new_data_set.npy\")\n",
    "# # train_label = np.load(\"../1_data/train_label_w_pre_prcss.npy\")\n",
    "# train_label = np.load(\"../1_data/new_label.npy\")\n",
    "# print(\"train_data.shape=\", train_data.shape)\n",
    "# print(\"train_label.shape=\", train_label.shape)"
   ]
  },
  {
   "cell_type": "code",
   "execution_count": 47,
   "metadata": {
    "id": "djunsEIqaoKU",
    "scrolled": true
   },
   "outputs": [],
   "source": [
    "# # 正規化\n",
    "# train_data = (train_data - train_data.min()) / train_data.max()\n",
    "# train_data = train_data.astype('float32')\n",
    "# # print(train_data)"
   ]
  },
  {
   "cell_type": "code",
   "execution_count": 48,
   "metadata": {
    "id": "FrPsiHayaoKU",
    "outputId": "fa39cac2-6a7a-4f0f-bb57-88d52cc09fac"
   },
   "outputs": [
    {
     "name": "stdout",
     "output_type": "stream",
     "text": [
      "train_data.shape= (4793, 784)\n"
     ]
    }
   ],
   "source": [
    "# # 配列形式変更\n",
    "# train_data = train_data.reshape(-1, 28*28)\n",
    "# print(\"train_data.shape=\", train_data.shape)"
   ]
  },
  {
   "cell_type": "markdown",
   "metadata": {
    "id": "vlH2LC3FaoKU"
   },
   "source": [
    "## trainとtestに分割する"
   ]
  },
  {
   "cell_type": "code",
   "execution_count": 49,
   "metadata": {
    "id": "4TwBlGi7aoKV",
    "outputId": "566f6107-46a2-4d44-f6c1-1fb982fece62",
    "scrolled": true
   },
   "outputs": [
    {
     "name": "stdout",
     "output_type": "stream",
     "text": [
      "(3355, 784) (1438, 784)\n"
     ]
    }
   ],
   "source": [
    "# X_train, X_test, y_train, y_test = train_test_split(train_data, train_label, \n",
    "#                                                     test_size=0.3, random_state=1234,\n",
    "#                                                     shuffle=True\n",
    "#                                                     )\n",
    "\n",
    "# print(X_train.shape, X_test.shape)"
   ]
  },
  {
   "cell_type": "markdown",
   "metadata": {
    "id": "twyjwl86aoKV"
   },
   "source": [
    "## 学習"
   ]
  },
  {
   "cell_type": "code",
   "execution_count": null,
   "metadata": {
    "id": "JQuVwSR9aoKV",
    "outputId": "d5c515c4-0fa8-4582-a35f-0be91c4c164c",
    "scrolled": false
   },
   "outputs": [
    {
     "name": "stdout",
     "output_type": "stream",
     "text": [
      "epoch=0\n",
      "epoch=1\n",
      "epoch=2\n",
      "epoch=3\n",
      "epoch=4\n",
      "epoch=5\n",
      "epoch=6\n",
      "epoch=7\n",
      "epoch=8\n",
      "epoch=9\n"
     ]
    }
   ],
   "source": [
    "# epochs = 10\n",
    "# batch_size = 32\n",
    "# lr = 0.01\n",
    "\n",
    "# # 繰り返し回数\n",
    "# xsize = X_train.shape[0]\n",
    "# iter_num = np.ceil(xsize / batch_size).astype(np.int)\n",
    "\n",
    "# # 2層NNのオブジェクト生成\n",
    "# tnet = TwoLayerNet(input_size=28*28, hidden_size=10, output_size=15)\n",
    "\n",
    "# train_loss = []\n",
    "# test_loss = []\n",
    "# train_accuracy = []\n",
    "# test_accuracy = []\n",
    "# for epoch in range(epochs):\n",
    "#     print(\"epoch=%s\"%epoch)\n",
    "    \n",
    "#     # シャッフル\n",
    "#     idx = np.arange(xsize)\n",
    "#     np.random.shuffle(idx)\n",
    "\n",
    "#     for it in range(iter_num):\n",
    "#         \"\"\"\n",
    "#         ランダムなミニバッチを順番に取り出す\n",
    "#         \"\"\"\n",
    "#         mask = idx[batch_size*it : batch_size*(it+1)]\n",
    "    \n",
    "#         # ミニバッチの生成\n",
    "#         x_ = X_train[mask]\n",
    "#         y_ = y_train[mask]\n",
    "        \n",
    "#         # 勾配の計算\n",
    "#         grads = tnet.gradient(x_, y_)\n",
    "\n",
    "#         # パラメータの更新\n",
    "#         for key in tnet.params.keys():\n",
    "#     #         print(key)\n",
    "#             tnet.params[key] -= lr * grads[key]\n",
    "\n",
    "#     ## 学習経過の記録\n",
    "    \n",
    "#     # 訓練データにおけるloss\n",
    "#     train_loss.append(tnet.loss(X_train,  y_train))\n",
    "    \n",
    "#     # テストデータにおけるloss\n",
    "#     test_loss.append(tnet.loss(X_test, y_test))\n",
    "    \n",
    "#     # 訓練データにて精度を確認\n",
    "#     train_accuracy.append(tnet.accuracy(X_train, y_train))\n",
    "\n",
    "#     # テストデータにて精度を算出\n",
    "#     test_accuracy.append(tnet.accuracy(X_test, y_test))"
   ]
  },
  {
   "cell_type": "code",
   "execution_count": 50,
   "metadata": {
    "id": "gfMJ3yt8aoKZ",
    "outputId": "bae9991a-2ea9-42bd-dbee-00e68741132b"
   },
   "outputs": [
    {
     "name": "stderr",
     "output_type": "stream",
     "text": [
      "/tmp/ipykernel_45023/2920069429.py:19: DeprecationWarning: `np.int` is a deprecated alias for the builtin `int`. To silence this warning, use `int` by itself. Doing this will not modify any behavior and is safe. When replacing `np.int`, you may wish to use e.g. `np.int64` or `np.int32` to specify the precision. If you wish to review your current use, check the release note link for additional information.\n",
      "Deprecated in NumPy 1.20; for more details and guidance: https://numpy.org/devdocs/release/1.20.0-notes.html#deprecations\n",
      "  iter_num = np.ceil(xsize / batch_size).astype(np.int)\n"
     ]
    },
    {
     "name": "stdout",
     "output_type": "stream",
     "text": [
      "epoch=0\n",
      "it= 0\n",
      "it= 1\n",
      "it= 2\n",
      "it= 3\n",
      "it= 4\n",
      "it= 5\n",
      "it= 6\n",
      "it= 7\n",
      "it= 8\n",
      "it= 9\n",
      "it= 10\n",
      "it= 11\n",
      "it= 12\n",
      "it= 13\n",
      "it= 14\n",
      "it= 15\n",
      "it= 16\n",
      "it= 17\n",
      "it= 18\n",
      "it= 19\n",
      "it= 20\n",
      "it= 21\n",
      "it= 22\n",
      "it= 23\n",
      "it= 24\n",
      "it= 25\n",
      "it= 26\n",
      "it= 27\n",
      "it= 28\n",
      "it= 29\n",
      "it= 30\n",
      "it= 31\n",
      "it= 32\n",
      "it= 33\n",
      "epoch=1\n",
      "it= 0\n",
      "it= 1\n",
      "it= 2\n",
      "it= 3\n",
      "it= 4\n",
      "it= 5\n",
      "it= 6\n",
      "it= 7\n",
      "it= 8\n",
      "it= 9\n",
      "it= 10\n",
      "it= 11\n",
      "it= 12\n",
      "it= 13\n",
      "it= 14\n",
      "it= 15\n",
      "it= 16\n",
      "it= 17\n",
      "it= 18\n",
      "it= 19\n",
      "it= 20\n",
      "it= 21\n",
      "it= 22\n",
      "it= 23\n",
      "it= 24\n",
      "it= 25\n",
      "it= 26\n",
      "it= 27\n",
      "it= 28\n",
      "it= 29\n",
      "it= 30\n",
      "it= 31\n",
      "it= 32\n",
      "it= 33\n",
      "epoch=2\n",
      "it= 0\n",
      "it= 1\n",
      "it= 2\n",
      "it= 3\n",
      "it= 4\n",
      "it= 5\n",
      "it= 6\n",
      "it= 7\n",
      "it= 8\n",
      "it= 9\n",
      "it= 10\n",
      "it= 11\n",
      "it= 12\n",
      "it= 13\n",
      "it= 14\n",
      "it= 15\n",
      "it= 16\n",
      "it= 17\n",
      "it= 18\n",
      "it= 19\n",
      "it= 20\n",
      "it= 21\n",
      "it= 22\n",
      "it= 23\n",
      "it= 24\n",
      "it= 25\n",
      "it= 26\n",
      "it= 27\n",
      "it= 28\n",
      "it= 29\n",
      "it= 30\n",
      "it= 31\n",
      "it= 32\n",
      "it= 33\n",
      "epoch=3\n",
      "it= 0\n",
      "it= 1\n",
      "it= 2\n",
      "it= 3\n",
      "it= 4\n",
      "it= 5\n",
      "it= 6\n",
      "it= 7\n",
      "it= 8\n",
      "it= 9\n",
      "it= 10\n",
      "it= 11\n",
      "it= 12\n",
      "it= 13\n",
      "it= 14\n",
      "it= 15\n",
      "it= 16\n",
      "it= 17\n",
      "it= 18\n",
      "it= 19\n",
      "it= 20\n",
      "it= 21\n",
      "it= 22\n",
      "it= 23\n",
      "it= 24\n",
      "it= 25\n",
      "it= 26\n",
      "it= 27\n",
      "it= 28\n",
      "it= 29\n",
      "it= 30\n",
      "it= 31\n",
      "it= 32\n",
      "it= 33\n",
      "epoch=4\n",
      "it= 0\n",
      "it= 1\n",
      "it= 2\n",
      "it= 3\n",
      "it= 4\n",
      "it= 5\n",
      "it= 6\n",
      "it= 7\n",
      "it= 8\n",
      "it= 9\n",
      "it= 10\n",
      "it= 11\n",
      "it= 12\n",
      "it= 13\n",
      "it= 14\n",
      "it= 15\n",
      "it= 16\n",
      "it= 17\n",
      "it= 18\n",
      "it= 19\n",
      "it= 20\n",
      "it= 21\n",
      "it= 22\n",
      "it= 23\n",
      "it= 24\n",
      "it= 25\n",
      "it= 26\n",
      "it= 27\n",
      "it= 28\n",
      "it= 29\n",
      "it= 30\n",
      "it= 31\n",
      "it= 32\n",
      "it= 33\n",
      "epoch=5\n",
      "it= 0\n",
      "it= 1\n",
      "it= 2\n",
      "it= 3\n",
      "it= 4\n",
      "it= 5\n",
      "it= 6\n",
      "it= 7\n",
      "it= 8\n",
      "it= 9\n",
      "it= 10\n",
      "it= 11\n",
      "it= 12\n",
      "it= 13\n",
      "it= 14\n",
      "it= 15\n",
      "it= 16\n",
      "it= 17\n",
      "it= 18\n",
      "it= 19\n",
      "it= 20\n",
      "it= 21\n",
      "it= 22\n",
      "it= 23\n",
      "it= 24\n",
      "it= 25\n",
      "it= 26\n",
      "it= 27\n",
      "it= 28\n",
      "it= 29\n",
      "it= 30\n",
      "it= 31\n",
      "it= 32\n",
      "it= 33\n",
      "epoch=6\n",
      "it= 0\n",
      "it= 1\n",
      "it= 2\n",
      "it= 3\n",
      "it= 4\n",
      "it= 5\n",
      "it= 6\n",
      "it= 7\n",
      "it= 8\n",
      "it= 9\n",
      "it= 10\n",
      "it= 11\n",
      "it= 12\n",
      "it= 13\n",
      "it= 14\n",
      "it= 15\n",
      "it= 16\n",
      "it= 17\n",
      "it= 18\n",
      "it= 19\n",
      "it= 20\n",
      "it= 21\n",
      "it= 22\n",
      "it= 23\n",
      "it= 24\n",
      "it= 25\n",
      "it= 26\n",
      "it= 27\n",
      "it= 28\n",
      "it= 29\n",
      "it= 30\n",
      "it= 31\n",
      "it= 32\n",
      "it= 33\n",
      "epoch=7\n",
      "it= 0\n",
      "it= 1\n",
      "it= 2\n",
      "it= 3\n",
      "it= 4\n",
      "it= 5\n",
      "it= 6\n",
      "it= 7\n",
      "it= 8\n",
      "it= 9\n",
      "it= 10\n",
      "it= 11\n",
      "it= 12\n",
      "it= 13\n",
      "it= 14\n",
      "it= 15\n",
      "it= 16\n",
      "it= 17\n",
      "it= 18\n",
      "it= 19\n",
      "it= 20\n",
      "it= 21\n",
      "it= 22\n",
      "it= 23\n",
      "it= 24\n",
      "it= 25\n",
      "it= 26\n",
      "it= 27\n",
      "it= 28\n",
      "it= 29\n",
      "it= 30\n",
      "it= 31\n",
      "it= 32\n",
      "it= 33\n",
      "epoch=8\n",
      "it= 0\n",
      "it= 1\n",
      "it= 2\n",
      "it= 3\n",
      "it= 4\n",
      "it= 5\n",
      "it= 6\n",
      "it= 7\n",
      "it= 8\n",
      "it= 9\n",
      "it= 10\n",
      "it= 11\n",
      "it= 12\n",
      "it= 13\n",
      "it= 14\n",
      "it= 15\n",
      "it= 16\n",
      "it= 17\n",
      "it= 18\n",
      "it= 19\n",
      "it= 20\n",
      "it= 21\n",
      "it= 22\n",
      "it= 23\n",
      "it= 24\n",
      "it= 25\n",
      "it= 26\n",
      "it= 27\n",
      "it= 28\n",
      "it= 29\n",
      "it= 30\n",
      "it= 31\n",
      "it= 32\n",
      "it= 33\n",
      "epoch=9\n",
      "it= 0\n",
      "it= 1\n",
      "it= 2\n",
      "it= 3\n",
      "it= 4\n",
      "it= 5\n",
      "it= 6\n",
      "it= 7\n",
      "it= 8\n",
      "it= 9\n",
      "it= 10\n",
      "it= 11\n",
      "it= 12\n",
      "it= 13\n",
      "it= 14\n",
      "it= 15\n",
      "it= 16\n",
      "it= 17\n",
      "it= 18\n",
      "it= 19\n",
      "it= 20\n",
      "it= 21\n",
      "it= 22\n",
      "it= 23\n",
      "it= 24\n",
      "it= 25\n",
      "it= 26\n",
      "it= 27\n",
      "it= 28\n",
      "it= 29\n",
      "it= 30\n",
      "it= 31\n",
      "it= 32\n",
      "it= 33\n"
     ]
    }
   ],
   "source": [
    "# # x = train[:1000,:]\n",
    "# # t = train_labels[:1000,:]\n",
    "\n",
    "# x = X_train\n",
    "# t = y_train\n",
    "# test = X_test\n",
    "# test_labels = y_test\n",
    "\n",
    "# x = x.reshape(-1,1,28,28) # 配列形式の変形\n",
    "# test = test.reshape(-1,1,28,28) # 配列形式の変形\n",
    "\n",
    "# epochs = 10\n",
    "# batch_size = 100\n",
    "\n",
    "# optimizer = RMSProp(lr=0.01, rho=0.9)\n",
    "\n",
    "# # 繰り返し回数\n",
    "# xsize = x.shape[0]\n",
    "# iter_num = np.ceil(xsize / batch_size).astype(np.int)\n",
    "\n",
    "\n",
    "# # CNNのオブジェクト生成\n",
    "# snet = SimpleConvNet(input_dim=(1, 28, 28), \n",
    "#                      conv_param={'filter_num':30, 'filter_size':5, 'pad':0, 'stride':1},\n",
    "#                      pool_param={'pool_size':2, 'pad':0, 'stride':2},\n",
    "#                      hidden_size=100, output_size=15, weight_init_std=0.01)\n",
    "\n",
    "# train_loss = []\n",
    "# test_loss = []\n",
    "# train_accuracy = []\n",
    "# test_accuracy = []\n",
    "\n",
    "# test_pred = []\n",
    "\n",
    "# for epoch in range(epochs):\n",
    "#     print(\"epoch=%s\"%epoch)\n",
    "\n",
    "#     # シャッフル\n",
    "#     idx = np.arange(xsize)\n",
    "#     np.random.shuffle(idx)\n",
    "\n",
    "#     for it in range(iter_num):\n",
    "#         \"\"\"\n",
    "#         ランダムなミニバッチを順番に取り出す\n",
    "#         \"\"\"\n",
    "#         print(\"it=\", it)\n",
    "#         mask = idx[batch_size*it : batch_size*(it+1)]\n",
    "\n",
    "#         # ミニバッチの生成\n",
    "#         x_train = x[mask]\n",
    "#         t_train = t[mask]\n",
    "\n",
    "#         # 勾配の計算 (誤差逆伝播法を用いる) \n",
    "#         grads = snet.gradient(x_train, t_train)\n",
    "\n",
    "#         # 更新\n",
    "#         optimizer.update(snet.params, grads)\n",
    "\n",
    "#     ## 学習経過の記録\n",
    "\n",
    "#     # 訓練データにおけるloss\n",
    "# #     print(\"calculating train_loss\")    \n",
    "#     train_loss.append(snet.loss(x,  t))\n",
    "\n",
    "# #     print(\"calculating test_loss\")\n",
    "#     # テストデータにおけるloss\n",
    "#     test_loss.append(snet.loss(test, test_labels))\n",
    "\n",
    "# #     print(\"calculating train_accuracy\")\n",
    "#     # 訓練データにて精度を確認\n",
    "#     train_accuracy.append(snet.accuracy(x, t))\n",
    "    \n",
    "# #     print(\"calculating test_accuracy\")\n",
    "#     # テストデータにて精度を算出\n",
    "#     test_accuracy.append(snet.accuracy(test, test_labels))\n",
    "    \n",
    "#     # テストデータの推論結果\n",
    "#     test_pred.append(snet.predict_label(test))"
   ]
  },
  {
   "cell_type": "code",
   "execution_count": 10,
   "metadata": {},
   "outputs": [
    {
     "data": {
      "image/png": "[encoded data removed]",
      "text/plain": [
       "<Figure size 432x288 with 1 Axes>"
      ]
     },
     "metadata": {
      "needs_background": "light"
     },
     "output_type": "display_data"
    },
    {
     "data": {
      "image/png": "[encoded data removed]",
      "text/plain": [
       "<Figure size 432x288 with 1 Axes>"
      ]
     },
     "metadata": {
      "needs_background": "light"
     },
     "output_type": "display_data"
    }
   ],
   "source": [
    "# x_epoch = np.arange(0, 10, 1)\n",
    "\n",
    "# plt.plot(x_epoch, train_loss, 'r-')\n",
    "# plt.plot(x_epoch, test_loss, 'r--')\n",
    "# plt.ylabel(\"loss\")\n",
    "# plt.xlabel(\"epochs\")\n",
    "# plt.show()\n",
    "\n",
    "# plt.plot(x_epoch, train_accuracy, 'b-')\n",
    "# plt.plot(x_epoch, test_accuracy, 'b--')\n",
    "# plt.ylabel(\"accuracy\")\n",
    "# plt.xlabel(\"epochs\")\n",
    "# plt.show()"
   ]
  },
  {
   "cell_type": "code",
   "execution_count": 51,
   "metadata": {
    "id": "ufTPSU-yaoKa",
    "outputId": "958d2633-1aed-4bb1-8112-90894fa54999"
   },
   "outputs": [
    {
     "data": {
      "image/png": "[encoded data removed]",
      "text/plain": [
       "<Figure size 640x480 with 1 Axes>"
      ]
     },
     "metadata": {},
     "output_type": "display_data"
    },
    {
     "data": {
      "image/png": "[encoded data removed]",
      "text/plain": [
       "<Figure size 640x480 with 1 Axes>"
      ]
     },
     "metadata": {},
     "output_type": "display_data"
    }
   ],
   "source": [
    "# # lossとaccuracyのグラフ化\n",
    "# df_log = pd.DataFrame({\"train_loss\":train_loss,\n",
    "#              \"test_loss\":test_loss,\n",
    "#              \"train_accuracy\":train_accuracy,\n",
    "#              \"test_accuracy\":test_accuracy})\n",
    "\n",
    "# df_log.plot(style=['r-', 'r--', 'b-', 'b--'])\n",
    "# plt.ylim([0,3])\n",
    "# plt.ylabel(\"Accuracy or loss\")\n",
    "# plt.xlabel(\"epochs\")\n",
    "# plt.show()\n",
    "\n",
    "# # accuracyのグラフ化\n",
    "# df_log = pd.DataFrame({\"train_accuracy\":train_accuracy,\n",
    "#              \"test_accuracy\":test_accuracy})\n",
    "\n",
    "# df_log.plot(style=['b-', 'b--'])\n",
    "# plt.ylim([0,1])\n",
    "# plt.ylabel(\"Accuracy\")\n",
    "# plt.xlabel(\"epochs\")\n",
    "# plt.show()"
   ]
  },
  {
   "cell_type": "code",
   "execution_count": 53,
   "metadata": {},
   "outputs": [
    {
     "name": "stdout",
     "output_type": "stream",
     "text": [
      "train accuracy is:  0.9815201192250372\n",
      "test accuracy is:  0.9388038942976356\n"
     ]
    }
   ],
   "source": [
    "# print('train accuracy is: ', train_accuracy[9])\n",
    "\n",
    "# print('test accuracy is: ', test_accuracy[9])"
   ]
  },
  {
   "cell_type": "markdown",
   "metadata": {
    "id": "zTYEwTO-aoKb"
   },
   "source": [
    "## 学習済みモデルの出力"
   ]
  },
  {
   "cell_type": "code",
   "execution_count": 54,
   "metadata": {
    "id": "VwdzbQnaaoKb"
   },
   "outputs": [],
   "source": [
    "# with open(\"katakana_model_r02.pickle\", \"wb\") as f:\n",
    "#     pickle.dump(snet, f)"
   ]
  },
  {
   "cell_type": "markdown",
   "metadata": {},
   "source": [
    "モデルのパラメータだけをpickleに保存する"
   ]
  },
  {
   "cell_type": "code",
   "execution_count": 62,
   "metadata": {},
   "outputs": [],
   "source": [
    "# # モデルのパラメータを保存するファイル名\n",
    "# filename = 'katakana_model_r02_prams.pickle'\n",
    "\n",
    "# # 学習済みモデルのパラメータを取得する\n",
    "# params = snet.params\n",
    "\n",
    "# # パラメータをpickleファイルに保存する\n",
    "# with open(filename, 'wb') as f:\n",
    "#     pickle.dump(params, f)"
   ]
  },
  {
   "cell_type": "markdown",
   "metadata": {
    "id": "eb1CJO0ZaoKc"
   },
   "source": [
    "データの可視化"
   ]
  },
  {
   "cell_type": "code",
   "execution_count": 55,
   "metadata": {
    "id": "ISqvyTkoaoKc",
    "outputId": "f40340d6-66d9-4d87-ba6f-efe7ca925e76"
   },
   "outputs": [
    {
     "name": "stdout",
     "output_type": "stream",
     "text": [
      "(1438, 15)\n"
     ]
    }
   ],
   "source": [
    "# print(test_labels.shape)"
   ]
  },
  {
   "cell_type": "code",
   "execution_count": null,
   "metadata": {
    "id": "Aq-zJtNyaoKc",
    "outputId": "44740ba2-8496-457b-afde-4c1d92a69a1d"
   },
   "outputs": [
    {
     "name": "stdout",
     "output_type": "stream",
     "text": [
      "[0 0 0 0 0 0 0 0 0 0 0 0 1 0 0]\n"
     ]
    }
   ],
   "source": [
    "# print(test_labels[0])"
   ]
  },
  {
   "cell_type": "code",
   "execution_count": null,
   "metadata": {
    "id": "dooP3UxHaoKc",
    "outputId": "24c1e591-27bf-4f1a-d152-deb92d23cf69"
   },
   "outputs": [
    {
     "name": "stdout",
     "output_type": "stream",
     "text": [
      "<class 'numpy.ndarray'>\n"
     ]
    }
   ],
   "source": [
    "# print(type(test_labels[0]))"
   ]
  },
  {
   "cell_type": "code",
   "execution_count": 56,
   "metadata": {
    "id": "hiRTcpL-aoKd",
    "outputId": "c73979b9-8f64-4f2e-9c3d-fafdea3e2d1f"
   },
   "outputs": [
    {
     "name": "stdout",
     "output_type": "stream",
     "text": [
      "[ 0  1  2  3  4  5  6  7  8  9 10 11 12 13 14]\n",
      "4\n"
     ]
    }
   ],
   "source": [
    "# vec_trans_id = np.array([0, 1, 2, 3, 4, 5, 6, 7, 8, 9, 10, 11, 12, 13, 14])\n",
    "# print(vec_trans_id)\n",
    "\n",
    "# test_id = np.dot(test_labels[0], vec_trans_id.T)\n",
    "# print(test_id)"
   ]
  },
  {
   "cell_type": "code",
   "execution_count": 57,
   "metadata": {
    "id": "6XQhpNL0aoKd",
    "outputId": "6a4838a5-4422-449b-a92d-7e96c50be7e5"
   },
   "outputs": [
    {
     "name": "stdout",
     "output_type": "stream",
     "text": [
      "(1438,)\n",
      "[ 4  1  4 ...  0  7 13]\n"
     ]
    }
   ],
   "source": [
    "# test_id = np.dot(test_labels, vec_trans_id.T)\n",
    "# print(test_id.shape)\n",
    "# print(test_id)\n",
    "# # test_id_pred = np.dot(test_pred, vec_trans_id.T)\n",
    "# # print(test_id_pred.shape)"
   ]
  },
  {
   "cell_type": "code",
   "execution_count": 17,
   "metadata": {
    "id": "DeUSIEyNaoKd",
    "outputId": "f8463b59-4081-4886-bf8a-eea66756975a",
    "scrolled": true
   },
   "outputs": [
    {
     "name": "stdout",
     "output_type": "stream",
     "text": [
      "(900,)\n",
      "[ 3  5  7  1  7  3  3  3  2  3  7  7  7  3  3  7  2  1  2  5  5  3  7  2\n",
      "  1  7  1  5  7  7  0 12  1 12  3  5  0  5  1  3  3  1  3  3  5  2  3  5\n",
      "  1  3  3  1  3  3  7  0  3  7  1  5  5  8  7  5  5  1  2  3  7  5  3  0\n",
      "  7  1  1  1  0  3  3  3 12  3  1  3  3  5  1  5  1  1  7  3  1  1  7 12\n",
      "  3  1  5  7  7  5  3  3  0  3 12  3  5  3  3  3 10  7  3  1  1  7  7  1\n",
      "  3  7  3  0  1  5  7  2  3  3  2  0  1  7  0  3  3  7  0  3  8  3  5  3\n",
      "  3  1  3 12  0  7  0  1  7  3  3  7  3  3  1  2  5  1  7  3  7  3  0  3\n",
      "  1  0  7  7  7  3  7  1  3 12  1  7  5  0  1  3  5  5  0 12  3  5  1  3\n",
      "  7  1  7  1  1  7  2  7  3  7  1  3  1 12  3  7 12  3  3  3  5 12  7  7\n",
      "  1  0  7  5  1  7  0  5  7  0  5  5  7  7  0  3 12  5  2  7  3  3  7  1\n",
      "  3  1  1  3  3  5  3  5  0  7  2  5  1  2  2  3  3  1  7  3  3  1  3  3\n",
      "  3  1  7  3  5  3  8  1  1  7  3  1 12 12  2  5  5  1  3 10  1  7  7  0\n",
      " 12  1  0  7  7  1  0  5  1 12  5  7  3  3  1  3  7  1 12  5  7  3  5  1\n",
      "  0  2  1  0  7  5  7  7  3  5  3  0  7  1  3  2  3  1  1  1  7  5  1  0\n",
      "  0  3  5  3  3  7 12  5  1  1  3  0  5  0  3  7  7  1  1  1  0  7  5  3\n",
      "  1  3  5  0  7  0 10 12  3  3  3  0  3  3  3  0  7  3  7  1  7  5  5  3\n",
      "  5  3  7  3  5  1  5  7  5  5  1  5 12  7  0  1  7  3  7  3  5  5  5  1\n",
      "  3  1 12  3  3  3  7  3  1  5  1  7  2  3  3  3  1  1  3  7  3  1 12  7\n",
      "  1  3  5  3  1  1  3  1  7  3  3  3  3  3  2  5  0  5  0  5  7  7  1  7\n",
      "  1  1  1  1  1  3  5  5  3  3  3  7  5  7  5  7  7  5  7  7 12 10  1  0\n",
      "  7  3  0  3  1  1  0  5  3  5  0  3  3  7  5  1  1  0  3  5  0  3  3  0\n",
      "  7  3  1  3  1  3  0  1  3  0  2  3  7  7  5  3  2  3  7  3  7  5  1  3\n",
      "  5  3  5  3 12  1  5  3  5  5  3  0  3 12  7  7  3  0  3  0  1  7  3  3\n",
      "  7  1  5  3  3  5 12  1  7  2  3  3  1  2  1  7  7  1  7  3  1  7  3  1\n",
      "  0  1  2  1  7  1  0  3  3  3  7  3  3  3 12  5  1  7  7  1  1  7  3  1\n",
      "  1  0  3  0  5 12  2  3  5  7  5  3  3  5  7  7  1  3  7 10  3  0  3  5\n",
      "  1  1  1  5  3  2  5  5  3  7  3  1  7  3  5  3  7  1  1  5  2  0  3  7\n",
      "  0  3  0  3  5  3  3  3 12  5  8  3  5  0  0  3  7  0  3  3  5  5  0  5\n",
      "  5  3  1  5  1  7  3  3  3  5  7  3  7  7  3  1  3  7  5  1  1  3  7  1\n",
      "  3  7  3  5  7  1  1  1  2 12 10  7  0  3  2  1  7  1  5  7  3  3  2  5\n",
      " 12 12 12  3  1  7  1  7  5  1  3  3  1  5  1  7  5  1  3  3  5  1  1  0\n",
      "  1  1  0  0  5  7  3 12  3  3  7  3  3  3  1 12  3  7  7  1  5  7  1  7\n",
      "  7  3  3  2  7  3  7  3  1  1  5  1  3  3  3  3  0  2  1  1  3  0  7  1\n",
      "  7  3  3 12  3  1 12  3  7  1  5  3  7  7  7  7  3  1  1  3  0  3  1  3\n",
      "  5  0 12 12  7  3  1  1  3  7  3  7  3 10  0  1  7  3  7  2  1  1  3  3\n",
      "  5  3  3  7  7  2  7  3  3  0  7  2  3  1  2  0  0  2  3  7  1 12  1  1\n",
      "  7  7  7  7  1  7  0  1  5  3  7  0  0  5  5  3  3  1 12  5  7  1  2  0\n",
      "  2  7 12  5  1  2  3  3  7  1  3  5]\n"
     ]
    }
   ],
   "source": [
    "print(test_pred[0].shape)\n",
    "print(test_pred[0])"
   ]
  },
  {
   "cell_type": "code",
   "execution_count": 58,
   "metadata": {
    "collapsed": true,
    "id": "tcVodq05aoKd",
    "outputId": "546213ba-e2e2-464e-997f-d033e0ec3aa7"
   },
   "outputs": [
    {
     "data": {
      "text/html": [
       "<div>\n",
       "<style scoped>\n",
       "    .dataframe tbody tr th:only-of-type {\n",
       "        vertical-align: middle;\n",
       "    }\n",
       "\n",
       "    .dataframe tbody tr th {\n",
       "        vertical-align: top;\n",
       "    }\n",
       "\n",
       "    .dataframe thead th {\n",
       "        text-align: right;\n",
       "    }\n",
       "</style>\n",
       "<table border=\"1\" class=\"dataframe\">\n",
       "  <thead>\n",
       "    <tr style=\"text-align: right;\">\n",
       "      <th></th>\n",
       "      <th>ground_truth</th>\n",
       "      <th>prediction</th>\n",
       "    </tr>\n",
       "  </thead>\n",
       "  <tbody>\n",
       "    <tr>\n",
       "      <th>0</th>\n",
       "      <td>4</td>\n",
       "      <td>4</td>\n",
       "    </tr>\n",
       "    <tr>\n",
       "      <th>1</th>\n",
       "      <td>1</td>\n",
       "      <td>1</td>\n",
       "    </tr>\n",
       "    <tr>\n",
       "      <th>2</th>\n",
       "      <td>4</td>\n",
       "      <td>4</td>\n",
       "    </tr>\n",
       "    <tr>\n",
       "      <th>3</th>\n",
       "      <td>7</td>\n",
       "      <td>7</td>\n",
       "    </tr>\n",
       "    <tr>\n",
       "      <th>4</th>\n",
       "      <td>0</td>\n",
       "      <td>0</td>\n",
       "    </tr>\n",
       "  </tbody>\n",
       "</table>\n",
       "</div>"
      ],
      "text/plain": [
       "   ground_truth  prediction\n",
       "0             4           4\n",
       "1             1           1\n",
       "2             4           4\n",
       "3             7           7\n",
       "4             0           0"
      ]
     },
     "metadata": {},
     "output_type": "display_data"
    },
    {
     "data": {
      "text/html": [
       "<div>\n",
       "<style scoped>\n",
       "    .dataframe tbody tr th:only-of-type {\n",
       "        vertical-align: middle;\n",
       "    }\n",
       "\n",
       "    .dataframe tbody tr th {\n",
       "        vertical-align: top;\n",
       "    }\n",
       "\n",
       "    .dataframe thead th {\n",
       "        text-align: right;\n",
       "    }\n",
       "</style>\n",
       "<table border=\"1\" class=\"dataframe\">\n",
       "  <thead>\n",
       "    <tr style=\"text-align: right;\">\n",
       "      <th></th>\n",
       "      <th>ground_truth</th>\n",
       "      <th>prediction</th>\n",
       "    </tr>\n",
       "  </thead>\n",
       "  <tbody>\n",
       "    <tr>\n",
       "      <th>1433</th>\n",
       "      <td>11</td>\n",
       "      <td>11</td>\n",
       "    </tr>\n",
       "    <tr>\n",
       "      <th>1434</th>\n",
       "      <td>3</td>\n",
       "      <td>3</td>\n",
       "    </tr>\n",
       "    <tr>\n",
       "      <th>1435</th>\n",
       "      <td>0</td>\n",
       "      <td>0</td>\n",
       "    </tr>\n",
       "    <tr>\n",
       "      <th>1436</th>\n",
       "      <td>7</td>\n",
       "      <td>7</td>\n",
       "    </tr>\n",
       "    <tr>\n",
       "      <th>1437</th>\n",
       "      <td>13</td>\n",
       "      <td>13</td>\n",
       "    </tr>\n",
       "  </tbody>\n",
       "</table>\n",
       "</div>"
      ],
      "text/plain": [
       "      ground_truth  prediction\n",
       "1433            11          11\n",
       "1434             3           3\n",
       "1435             0           0\n",
       "1436             7           7\n",
       "1437            13          13"
      ]
     },
     "metadata": {},
     "output_type": "display_data"
    }
   ],
   "source": [
    "# df = pd.DataFrame({'ground_truth':test_id, 'prediction':test_pred[9]})\n",
    "# display(df.head(5))  # 先頭から5行を表示\n",
    "# display(df.tail(5))  # 末尾から5行を表示"
   ]
  },
  {
   "cell_type": "code",
   "execution_count": 59,
   "metadata": {
    "collapsed": true,
    "id": "thpCNc-raoKe"
   },
   "outputs": [
    {
     "data": {
      "text/html": [
       "<div>\n",
       "<style scoped>\n",
       "    .dataframe tbody tr th:only-of-type {\n",
       "        vertical-align: middle;\n",
       "    }\n",
       "\n",
       "    .dataframe tbody tr th {\n",
       "        vertical-align: top;\n",
       "    }\n",
       "\n",
       "    .dataframe thead th {\n",
       "        text-align: right;\n",
       "    }\n",
       "</style>\n",
       "<table border=\"1\" class=\"dataframe\">\n",
       "  <thead>\n",
       "    <tr style=\"text-align: right;\">\n",
       "      <th></th>\n",
       "      <th>ground_truth</th>\n",
       "      <th>prediction</th>\n",
       "    </tr>\n",
       "  </thead>\n",
       "  <tbody>\n",
       "    <tr>\n",
       "      <th>40</th>\n",
       "      <td>0</td>\n",
       "      <td>13</td>\n",
       "    </tr>\n",
       "    <tr>\n",
       "      <th>44</th>\n",
       "      <td>14</td>\n",
       "      <td>11</td>\n",
       "    </tr>\n",
       "    <tr>\n",
       "      <th>46</th>\n",
       "      <td>3</td>\n",
       "      <td>9</td>\n",
       "    </tr>\n",
       "    <tr>\n",
       "      <th>49</th>\n",
       "      <td>5</td>\n",
       "      <td>7</td>\n",
       "    </tr>\n",
       "    <tr>\n",
       "      <th>66</th>\n",
       "      <td>0</td>\n",
       "      <td>12</td>\n",
       "    </tr>\n",
       "  </tbody>\n",
       "</table>\n",
       "</div>"
      ],
      "text/plain": [
       "    ground_truth  prediction\n",
       "40             0          13\n",
       "44            14          11\n",
       "46             3           9\n",
       "49             5           7\n",
       "66             0          12"
      ]
     },
     "metadata": {},
     "output_type": "display_data"
    },
    {
     "data": {
      "text/html": [
       "<div>\n",
       "<style scoped>\n",
       "    .dataframe tbody tr th:only-of-type {\n",
       "        vertical-align: middle;\n",
       "    }\n",
       "\n",
       "    .dataframe tbody tr th {\n",
       "        vertical-align: top;\n",
       "    }\n",
       "\n",
       "    .dataframe thead th {\n",
       "        text-align: right;\n",
       "    }\n",
       "</style>\n",
       "<table border=\"1\" class=\"dataframe\">\n",
       "  <thead>\n",
       "    <tr style=\"text-align: right;\">\n",
       "      <th></th>\n",
       "      <th>ground_truth</th>\n",
       "      <th>prediction</th>\n",
       "    </tr>\n",
       "  </thead>\n",
       "  <tbody>\n",
       "    <tr>\n",
       "      <th>1246</th>\n",
       "      <td>0</td>\n",
       "      <td>1</td>\n",
       "    </tr>\n",
       "    <tr>\n",
       "      <th>1046</th>\n",
       "      <td>0</td>\n",
       "      <td>6</td>\n",
       "    </tr>\n",
       "    <tr>\n",
       "      <th>1233</th>\n",
       "      <td>0</td>\n",
       "      <td>8</td>\n",
       "    </tr>\n",
       "    <tr>\n",
       "      <th>638</th>\n",
       "      <td>0</td>\n",
       "      <td>11</td>\n",
       "    </tr>\n",
       "    <tr>\n",
       "      <th>66</th>\n",
       "      <td>0</td>\n",
       "      <td>12</td>\n",
       "    </tr>\n",
       "  </tbody>\n",
       "</table>\n",
       "</div>"
      ],
      "text/plain": [
       "      ground_truth  prediction\n",
       "1246             0           1\n",
       "1046             0           6\n",
       "1233             0           8\n",
       "638              0          11\n",
       "66               0          12"
      ]
     },
     "metadata": {},
     "output_type": "display_data"
    }
   ],
   "source": [
    "# # 「正解」と「予測」が一致していない行を抽出\n",
    "# df2 = df[df['ground_truth']!=df['prediction']]\n",
    "# display(df2.head(5))\n",
    "\n",
    "# # 昇順にソート 第1キー'ground_truth'、第2キー'prediction\n",
    "# df2 = df2.sort_values(['ground_truth', 'prediction'])\n",
    "# display(df2.head(5))"
   ]
  },
  {
   "cell_type": "code",
   "execution_count": 16,
   "metadata": {},
   "outputs": [
    {
     "name": "stdout",
     "output_type": "stream",
     "text": [
      "予測分類は「11」で、出力層の対応ニューロンの出力値4.33\n",
      "正解分類は「6」で、出力層の対応ニューロンの出力値2.14\n"
     ]
    }
   ],
   "source": [
    "# idn = 19\n",
    "# s = snet.predict( np.array([test[idn]]) ) # 出力層の値\n",
    "# s = s[0]\n",
    "# print( f'予測分類は「{s.argmax()}」で、出力層の対応ニューロンの出力値{s[s.argmax()]:.2f}' ) \n",
    "# print( f'正解分類は「{test_id[idn]}」で、出力層の対応ニューロンの出力値{s[test_id[idn]]:.2f}' )"
   ]
  },
  {
   "cell_type": "code",
   "execution_count": 35,
   "metadata": {},
   "outputs": [
    {
     "name": "stdout",
     "output_type": "stream",
     "text": [
      "(1, 28, 28)\n",
      "(28, 28)\n"
     ]
    }
   ],
   "source": [
    "# print(test[0].shape)\n",
    "# test_2d = test[0].reshape(28, 28)\n",
    "\n",
    "# print(test_2d.shape)"
   ]
  },
  {
   "cell_type": "code",
   "execution_count": 43,
   "metadata": {},
   "outputs": [
    {
     "name": "stdout",
     "output_type": "stream",
     "text": [
      "(1312, 1, 28, 28)\n"
     ]
    }
   ],
   "source": [
    "# print(test.shape)"
   ]
  },
  {
   "cell_type": "code",
   "execution_count": 60,
   "metadata": {},
   "outputs": [
    {
     "name": "stdout",
     "output_type": "stream",
     "text": [
      "■ 正解値「0」に対して正しく予測（分類）できなかったケース\n"
     ]
    },
    {
     "data": {
      "image/png": "[encoded data removed]",
      "text/plain": [
       "<Figure size 780x216 with 14 Axes>"
      ]
     },
     "metadata": {},
     "output_type": "display_data"
    },
    {
     "name": "stdout",
     "output_type": "stream",
     "text": [
      "■ 正解値「1」に対して正しく予測（分類）できなかったケース\n"
     ]
    },
    {
     "data": {
      "image/png": "[encoded data removed]",
      "text/plain": [
       "<Figure size 780x108 with 7 Axes>"
      ]
     },
     "metadata": {},
     "output_type": "display_data"
    },
    {
     "name": "stdout",
     "output_type": "stream",
     "text": [
      "■ 正解値「2」に対して正しく予測（分類）できなかったケース\n"
     ]
    },
    {
     "data": {
      "image/png": "[encoded data removed]",
      "text/plain": [
       "<Figure size 780x108 with 7 Axes>"
      ]
     },
     "metadata": {},
     "output_type": "display_data"
    },
    {
     "name": "stdout",
     "output_type": "stream",
     "text": [
      "■ 正解値「3」に対して正しく予測（分類）できなかったケース\n"
     ]
    },
    {
     "data": {
      "image/png": "[encoded data removed]",
      "text/plain": [
       "<Figure size 780x108 with 7 Axes>"
      ]
     },
     "metadata": {},
     "output_type": "display_data"
    },
    {
     "name": "stdout",
     "output_type": "stream",
     "text": [
      "■ 正解値「4」に対して正しく予測（分類）できなかったケース\n"
     ]
    },
    {
     "data": {
      "image/png": "[encoded data removed]",
      "text/plain": [
       "<Figure size 780x108 with 7 Axes>"
      ]
     },
     "metadata": {},
     "output_type": "display_data"
    },
    {
     "name": "stdout",
     "output_type": "stream",
     "text": [
      "■ 正解値「5」に対して正しく予測（分類）できなかったケース\n"
     ]
    },
    {
     "data": {
      "image/png": "[encoded data removed]",
      "text/plain": [
       "<Figure size 780x108 with 7 Axes>"
      ]
     },
     "metadata": {},
     "output_type": "display_data"
    },
    {
     "name": "stdout",
     "output_type": "stream",
     "text": [
      "■ 正解値「6」に対して正しく予測（分類）できなかったケース\n"
     ]
    },
    {
     "data": {
      "image/png": "[encoded data removed]",
      "text/plain": [
       "<Figure size 780x108 with 7 Axes>"
      ]
     },
     "metadata": {},
     "output_type": "display_data"
    },
    {
     "name": "stdout",
     "output_type": "stream",
     "text": [
      "■ 正解値「7」に対して正しく予測（分類）できなかったケース\n"
     ]
    },
    {
     "data": {
      "image/png": "[encoded data removed]",
      "text/plain": [
       "<Figure size 780x108 with 7 Axes>"
      ]
     },
     "metadata": {},
     "output_type": "display_data"
    },
    {
     "name": "stdout",
     "output_type": "stream",
     "text": [
      "■ 正解値「8」に対して正しく予測（分類）できなかったケース\n"
     ]
    },
    {
     "data": {
      "image/png": "[encoded data removed]",
      "text/plain": [
       "<Figure size 780x108 with 7 Axes>"
      ]
     },
     "metadata": {},
     "output_type": "display_data"
    },
    {
     "name": "stdout",
     "output_type": "stream",
     "text": [
      "■ 正解値「9」に対して正しく予測（分類）できなかったケース\n"
     ]
    },
    {
     "data": {
      "image/png": "[encoded data removed]",
      "text/plain": [
       "<Figure size 780x108 with 7 Axes>"
      ]
     },
     "metadata": {},
     "output_type": "display_data"
    },
    {
     "name": "stdout",
     "output_type": "stream",
     "text": [
      "■ 正解値「10」に対して正しく予測（分類）できなかったケース\n"
     ]
    },
    {
     "data": {
      "image/png": "[encoded data removed]",
      "text/plain": [
       "<Figure size 780x108 with 7 Axes>"
      ]
     },
     "metadata": {},
     "output_type": "display_data"
    },
    {
     "name": "stdout",
     "output_type": "stream",
     "text": [
      "■ 正解値「11」に対して正しく予測（分類）できなかったケース\n"
     ]
    },
    {
     "data": {
      "image/png": "[encoded data removed]",
      "text/plain": [
       "<Figure size 780x108 with 7 Axes>"
      ]
     },
     "metadata": {},
     "output_type": "display_data"
    },
    {
     "name": "stdout",
     "output_type": "stream",
     "text": [
      "■ 正解値「12」に対して正しく予測（分類）できなかったケース\n"
     ]
    },
    {
     "data": {
      "image/png": "[encoded data removed]",
      "text/plain": [
       "<Figure size 780x108 with 7 Axes>"
      ]
     },
     "metadata": {},
     "output_type": "display_data"
    },
    {
     "name": "stdout",
     "output_type": "stream",
     "text": [
      "■ 正解値「13」に対して正しく予測（分類）できなかったケース\n"
     ]
    },
    {
     "data": {
      "image/png": "[encoded data removed]",
      "text/plain": [
       "<Figure size 780x108 with 7 Axes>"
      ]
     },
     "metadata": {},
     "output_type": "display_data"
    },
    {
     "name": "stdout",
     "output_type": "stream",
     "text": [
      "■ 正解値「14」に対して正しく予測（分類）できなかったケース\n"
     ]
    },
    {
     "data": {
      "image/png": "[encoded data removed]",
      "text/plain": [
       "<Figure size 780x108 with 7 Axes>"
      ]
     },
     "metadata": {},
     "output_type": "display_data"
    }
   ],
   "source": [
    "# test_image = test.reshape(1438, 28, 28) # 各画像を2次元配列にしてmatplotlibが出力できるようにする\n",
    "\n",
    "# s_test = snet.predict( np.array(test) ) # 出力層の値\n",
    "\n",
    "# for t in range(0,15):\n",
    "\n",
    "#   print(f'■ 正解値「{t}」に対して正しく予測（分類）できなかったケース')\n",
    "\n",
    "#   # 正解値が t の行を抽出\n",
    "#   index_list = list(df2[df2['ground_truth']==t].index.values)\n",
    "\n",
    "#   # matplotlib 出力\n",
    "#   n_cols = 7\n",
    "#   n_rows = ((len(index_list)-1)//n_cols)+1\n",
    "#   if n_rows < 1 : continue\n",
    "#   fig, ax = plt.subplots(nrows=n_rows, ncols=n_cols, figsize=(6.5, 0.9*n_rows), dpi=120)\n",
    "#   for i,ax in enumerate( np.ravel(ax) ):\n",
    "#     if i < len(index_list):\n",
    "\n",
    "#       p = index_list[i]\n",
    "#       ax.imshow(test_image[p],interpolation='nearest',vmin=0.,vmax=1.,cmap='Greys')\n",
    "\n",
    "#       # 予測（分類）を左上に表示\n",
    "#       t = ax.text(1, 1, f'{test_pred[9][p]}', verticalalignment='top', fontsize=8, color='tab:red')\n",
    "#       t.set_path_effects([pe.Stroke(linewidth=2, foreground='white'), pe.Normal()]) \n",
    "\n",
    "#       # 予測（分離）に対応する出力層のニューロンの値を括弧で表示\n",
    "#       t = ax.text(5, 2, f'({s_test[p].max():.1f})', verticalalignment='top', fontsize=6, color='tab:red')\n",
    "#       t.set_path_effects([pe.Stroke(linewidth=2, foreground='white'), pe.Normal()]) \n",
    "\n",
    "#       # 目盛などを非表示に\n",
    "#       ax.tick_params(axis='both', which='both', left=False, labelleft=False, \n",
    "#                      bottom=False, labelbottom=False)\n",
    "\n",
    "#       # 青色でインデックスを表示\n",
    "#       ax.set_title(index_list[i],fontsize=7,pad=1.5,color='tab:blue')\n",
    "\n",
    "#     else :\n",
    "#       ax.axis('off') # 余白処理\n",
    "\n",
    "#   plt.show()"
   ]
  },
  {
   "cell_type": "markdown",
   "metadata": {},
   "source": [
    "混同行列"
   ]
  },
  {
   "cell_type": "code",
   "execution_count": 61,
   "metadata": {},
   "outputs": [
    {
     "data": {
      "image/png": "[encoded data removed]",
      "text/plain": [
       "<Figure size 1024x768 with 1 Axes>"
      ]
     },
     "metadata": {},
     "output_type": "display_data"
    }
   ],
   "source": [
    "# df = pd.DataFrame({'ground_truth':test_id, 'prediction':test_pred[9]})\n",
    "\n",
    "# num_label_list = [0, 1, 2, 3, 4, 5, 6, 7, 8, 9, 10, 11, 12, 13, 14]\n",
    "# kana_list = ['a', 'i', 'u', 'e', 'o',\n",
    "#              'ka', 'ki', 'ku', 'ke', 'ko',\n",
    "#              'sa', 'si', 'su', 'se', 'so']\n",
    "\n",
    "# # クロス集計表\n",
    "# dfc = pd.crosstab(index=df['ground_truth'], columns=df['prediction']) \n",
    "# #display(dfc)\n",
    "\n",
    "# for i in dfc.index.values :\n",
    "#   dfc.at[i,i] = 0.0\n",
    "\n",
    "# # ヒートマップ的に出力\n",
    "# plt.figure(dpi=160)\n",
    "\n",
    "# plt.imshow(dfc,interpolation='nearest',cmap='Oranges')\n",
    "# plt.plot([0,0],[14,14])\n",
    "\n",
    "# n = len(dfc.columns) # 項目数\n",
    "# plt.gca().set_xticks(range(n))\n",
    "# # plt.gca().set_xticklabels(dfc.columns)\n",
    "# plt.xticks(num_label_list, kana_list)\n",
    "# plt.gca().set_yticks(range(n))\n",
    "# # plt.gca().set_yticklabels(dfc.columns)\n",
    "# plt.yticks(num_label_list, kana_list)\n",
    "# plt.tick_params(axis='x', which='both', direction=None, \n",
    "#                 top=True, bottom=False, labeltop=True, labelbottom=False)\n",
    "# plt.tick_params(axis='both', which='both', top=False, left=False )\n",
    "\n",
    "# # グリッドに関する設定\n",
    "# plt.gca().set_xticks(np.arange(-0.5, n-1), minor=True);\n",
    "# plt.gca().set_yticks(np.arange(-0.5, n-1), minor=True);\n",
    "# plt.grid( which='minor', color='white', linewidth=1)\n",
    "\n",
    "# plt.gca().xaxis.set_label_position('top') \n",
    "# plt.xlabel('prediction')\n",
    "# plt.ylabel('ground truth')\n",
    "\n",
    "# plt.plot([-0.5,n-0.5],[-0.5,n-0.5],color='black',linewidth=0.75)\n",
    "\n",
    "# # 相関係数を表示（文字に縁取り付き）\n",
    "# tp = dict(horizontalalignment='center',verticalalignment='center')\n",
    "# ep = [pe.Stroke(linewidth=3, foreground='white'),pe.Normal()]\n",
    "# for y,i in enumerate(dfc.index.values) :\n",
    "#   for x,c in enumerate(dfc.columns.values) :\n",
    "#     if x != y :\n",
    "#       if dfc.at[i,c] !=  0:\n",
    "#         t = plt.text(x, y, f'{dfc.at[i,c]}',**tp)\n",
    "#         t.set_path_effects(ep) "
   ]
  },
  {
   "cell_type": "code",
   "execution_count": 15,
   "metadata": {},
   "outputs": [
    {
     "ename": "ImportError",
     "evalue": "Need hypothesis>=3.58 to run tests",
     "output_type": "error",
     "traceback": [
      "\u001b[0;31m---------------------------------------------------------------------------\u001b[0m",
      "\u001b[0;31mModuleNotFoundError\u001b[0m                       Traceback (most recent call last)",
      "\u001b[0;32m~/anaconda3/lib/python3.7/site-packages/pandas/util/_tester.py\u001b[0m in \u001b[0;36mtest\u001b[0;34m(extra_args)\u001b[0m\n\u001b[1;32m     15\u001b[0m     \u001b[0;32mtry\u001b[0m\u001b[0;34m:\u001b[0m\u001b[0;34m\u001b[0m\u001b[0;34m\u001b[0m\u001b[0m\n\u001b[0;32m---> 16\u001b[0;31m         \u001b[0;32mimport\u001b[0m \u001b[0mhypothesis\u001b[0m  \u001b[0;31m# noqa\u001b[0m\u001b[0;34m\u001b[0m\u001b[0;34m\u001b[0m\u001b[0m\n\u001b[0m\u001b[1;32m     17\u001b[0m     \u001b[0;32mexcept\u001b[0m \u001b[0mImportError\u001b[0m\u001b[0;34m:\u001b[0m\u001b[0;34m\u001b[0m\u001b[0;34m\u001b[0m\u001b[0m\n",
      "\u001b[0;31mModuleNotFoundError\u001b[0m: No module named 'hypothesis'",
      "\nDuring handling of the above exception, another exception occurred:\n",
      "\u001b[0;31mImportError\u001b[0m                               Traceback (most recent call last)",
      "\u001b[0;32m<ipython-input-15-f37ca8985d3b>\u001b[0m in \u001b[0;36m<module>\u001b[0;34m\u001b[0m\n\u001b[0;32m----> 1\u001b[0;31m \u001b[0mpd\u001b[0m\u001b[0;34m.\u001b[0m\u001b[0mtest\u001b[0m\u001b[0;34m(\u001b[0m\u001b[0;34m)\u001b[0m\u001b[0;34m\u001b[0m\u001b[0;34m\u001b[0m\u001b[0m\n\u001b[0m",
      "\u001b[0;32m~/anaconda3/lib/python3.7/site-packages/pandas/util/_tester.py\u001b[0m in \u001b[0;36mtest\u001b[0;34m(extra_args)\u001b[0m\n\u001b[1;32m     16\u001b[0m         \u001b[0;32mimport\u001b[0m \u001b[0mhypothesis\u001b[0m  \u001b[0;31m# noqa\u001b[0m\u001b[0;34m\u001b[0m\u001b[0;34m\u001b[0m\u001b[0m\n\u001b[1;32m     17\u001b[0m     \u001b[0;32mexcept\u001b[0m \u001b[0mImportError\u001b[0m\u001b[0;34m:\u001b[0m\u001b[0;34m\u001b[0m\u001b[0;34m\u001b[0m\u001b[0m\n\u001b[0;32m---> 18\u001b[0;31m         \u001b[0;32mraise\u001b[0m \u001b[0mImportError\u001b[0m\u001b[0;34m(\u001b[0m\u001b[0;34m\"Need hypothesis>=3.58 to run tests\"\u001b[0m\u001b[0;34m)\u001b[0m\u001b[0;34m\u001b[0m\u001b[0;34m\u001b[0m\u001b[0m\n\u001b[0m\u001b[1;32m     19\u001b[0m     \u001b[0mcmd\u001b[0m \u001b[0;34m=\u001b[0m \u001b[0;34m[\u001b[0m\u001b[0;34m'--skip-slow'\u001b[0m\u001b[0;34m,\u001b[0m \u001b[0;34m'--skip-network'\u001b[0m\u001b[0;34m,\u001b[0m \u001b[0;34m'--skip-db'\u001b[0m\u001b[0;34m]\u001b[0m\u001b[0;34m\u001b[0m\u001b[0;34m\u001b[0m\u001b[0m\n\u001b[1;32m     20\u001b[0m     \u001b[0;32mif\u001b[0m \u001b[0mextra_args\u001b[0m\u001b[0;34m:\u001b[0m\u001b[0;34m\u001b[0m\u001b[0;34m\u001b[0m\u001b[0m\n",
      "\u001b[0;31mImportError\u001b[0m: Need hypothesis>=3.58 to run tests"
     ]
    }
   ],
   "source": [
    "# pd.test()"
   ]
  },
  {
   "cell_type": "markdown",
   "metadata": {},
   "source": [
    "train_dataの正解ラベルの分布を確認する"
   ]
  },
  {
   "cell_type": "code",
   "execution_count": 29,
   "metadata": {},
   "outputs": [
    {
     "name": "stdout",
     "output_type": "stream",
     "text": [
      "(1831,)\n",
      "[14  0 14 ...  8  4  2]\n",
      "<class 'numpy.ndarray'>\n"
     ]
    }
   ],
   "source": [
    "# train_id = np.dot(y_train, vec_trans_id.T)\n",
    "# print(train_id.shape)\n",
    "# print(train_id)\n",
    "# print(type(train_id))"
   ]
  },
  {
   "cell_type": "code",
   "execution_count": 30,
   "metadata": {},
   "outputs": [
    {
     "data": {
      "image/png": "[encoded data removed]",
      "text/plain": [
       "<Figure size 640x480 with 1 Axes>"
      ]
     },
     "metadata": {},
     "output_type": "display_data"
    }
   ],
   "source": [
    "# # ヒストグラム\n",
    "# fig = plt.figure()\n",
    "# ax = fig.add_subplot(1, 1, 1)\n",
    "# ax.hist(train_id, bins=15, histtype='barstacked', ec='black')\n",
    "# plt.show()"
   ]
  },
  {
   "cell_type": "code",
   "execution_count": 31,
   "metadata": {},
   "outputs": [
    {
     "data": {
      "image/png": "[encoded data removed]",
      "text/plain": [
       "<Figure size 640x480 with 1 Axes>"
      ]
     },
     "metadata": {},
     "output_type": "display_data"
    }
   ],
   "source": [
    "# # ヒストグラム\n",
    "# fig = plt.figure()\n",
    "# ax = fig.add_subplot(1, 1, 1)\n",
    "# ax.hist(test_id, bins=15, histtype='barstacked', ec='black')\n",
    "# plt.show()"
   ]
  },
  {
   "cell_type": "code",
   "execution_count": 3,
   "metadata": {},
   "outputs": [
    {
     "data": {
      "text/html": [
       "<div>\n",
       "<style scoped>\n",
       "    .dataframe tbody tr th:only-of-type {\n",
       "        vertical-align: middle;\n",
       "    }\n",
       "\n",
       "    .dataframe tbody tr th {\n",
       "        vertical-align: top;\n",
       "    }\n",
       "\n",
       "    .dataframe thead th {\n",
       "        text-align: right;\n",
       "    }\n",
       "</style>\n",
       "<table border=\"1\" class=\"dataframe\">\n",
       "  <thead>\n",
       "    <tr style=\"text-align: right;\">\n",
       "      <th></th>\n",
       "      <th>label</th>\n",
       "      <th>1x1</th>\n",
       "      <th>1x2</th>\n",
       "      <th>1x3</th>\n",
       "      <th>1x4</th>\n",
       "      <th>1x5</th>\n",
       "      <th>1x6</th>\n",
       "      <th>1x7</th>\n",
       "      <th>1x8</th>\n",
       "      <th>1x9</th>\n",
       "      <th>...</th>\n",
       "      <th>28x19</th>\n",
       "      <th>28x20</th>\n",
       "      <th>28x21</th>\n",
       "      <th>28x22</th>\n",
       "      <th>28x23</th>\n",
       "      <th>28x24</th>\n",
       "      <th>28x25</th>\n",
       "      <th>28x26</th>\n",
       "      <th>28x27</th>\n",
       "      <th>28x28</th>\n",
       "    </tr>\n",
       "  </thead>\n",
       "  <tbody>\n",
       "    <tr>\n",
       "      <th>0</th>\n",
       "      <td>7</td>\n",
       "      <td>0</td>\n",
       "      <td>0</td>\n",
       "      <td>0</td>\n",
       "      <td>0</td>\n",
       "      <td>0</td>\n",
       "      <td>0</td>\n",
       "      <td>0</td>\n",
       "      <td>0</td>\n",
       "      <td>0</td>\n",
       "      <td>...</td>\n",
       "      <td>0</td>\n",
       "      <td>0</td>\n",
       "      <td>0</td>\n",
       "      <td>0</td>\n",
       "      <td>0</td>\n",
       "      <td>0</td>\n",
       "      <td>0</td>\n",
       "      <td>0</td>\n",
       "      <td>0</td>\n",
       "      <td>0</td>\n",
       "    </tr>\n",
       "    <tr>\n",
       "      <th>1</th>\n",
       "      <td>2</td>\n",
       "      <td>0</td>\n",
       "      <td>0</td>\n",
       "      <td>0</td>\n",
       "      <td>0</td>\n",
       "      <td>0</td>\n",
       "      <td>0</td>\n",
       "      <td>0</td>\n",
       "      <td>0</td>\n",
       "      <td>0</td>\n",
       "      <td>...</td>\n",
       "      <td>0</td>\n",
       "      <td>0</td>\n",
       "      <td>0</td>\n",
       "      <td>0</td>\n",
       "      <td>0</td>\n",
       "      <td>0</td>\n",
       "      <td>0</td>\n",
       "      <td>0</td>\n",
       "      <td>0</td>\n",
       "      <td>0</td>\n",
       "    </tr>\n",
       "    <tr>\n",
       "      <th>2</th>\n",
       "      <td>1</td>\n",
       "      <td>0</td>\n",
       "      <td>0</td>\n",
       "      <td>0</td>\n",
       "      <td>0</td>\n",
       "      <td>0</td>\n",
       "      <td>0</td>\n",
       "      <td>0</td>\n",
       "      <td>0</td>\n",
       "      <td>0</td>\n",
       "      <td>...</td>\n",
       "      <td>0</td>\n",
       "      <td>0</td>\n",
       "      <td>0</td>\n",
       "      <td>0</td>\n",
       "      <td>0</td>\n",
       "      <td>0</td>\n",
       "      <td>0</td>\n",
       "      <td>0</td>\n",
       "      <td>0</td>\n",
       "      <td>0</td>\n",
       "    </tr>\n",
       "    <tr>\n",
       "      <th>3</th>\n",
       "      <td>0</td>\n",
       "      <td>0</td>\n",
       "      <td>0</td>\n",
       "      <td>0</td>\n",
       "      <td>0</td>\n",
       "      <td>0</td>\n",
       "      <td>0</td>\n",
       "      <td>0</td>\n",
       "      <td>0</td>\n",
       "      <td>0</td>\n",
       "      <td>...</td>\n",
       "      <td>0</td>\n",
       "      <td>0</td>\n",
       "      <td>0</td>\n",
       "      <td>0</td>\n",
       "      <td>0</td>\n",
       "      <td>0</td>\n",
       "      <td>0</td>\n",
       "      <td>0</td>\n",
       "      <td>0</td>\n",
       "      <td>0</td>\n",
       "    </tr>\n",
       "    <tr>\n",
       "      <th>4</th>\n",
       "      <td>4</td>\n",
       "      <td>0</td>\n",
       "      <td>0</td>\n",
       "      <td>0</td>\n",
       "      <td>0</td>\n",
       "      <td>0</td>\n",
       "      <td>0</td>\n",
       "      <td>0</td>\n",
       "      <td>0</td>\n",
       "      <td>0</td>\n",
       "      <td>...</td>\n",
       "      <td>0</td>\n",
       "      <td>0</td>\n",
       "      <td>0</td>\n",
       "      <td>0</td>\n",
       "      <td>0</td>\n",
       "      <td>0</td>\n",
       "      <td>0</td>\n",
       "      <td>0</td>\n",
       "      <td>0</td>\n",
       "      <td>0</td>\n",
       "    </tr>\n",
       "  </tbody>\n",
       "</table>\n",
       "<p>5 rows × 785 columns</p>\n",
       "</div>"
      ],
      "text/plain": [
       "   label  1x1  1x2  1x3  1x4  1x5  1x6  1x7  1x8  1x9  ...  28x19  28x20  \\\n",
       "0      7    0    0    0    0    0    0    0    0    0  ...      0      0   \n",
       "1      2    0    0    0    0    0    0    0    0    0  ...      0      0   \n",
       "2      1    0    0    0    0    0    0    0    0    0  ...      0      0   \n",
       "3      0    0    0    0    0    0    0    0    0    0  ...      0      0   \n",
       "4      4    0    0    0    0    0    0    0    0    0  ...      0      0   \n",
       "\n",
       "   28x21  28x22  28x23  28x24  28x25  28x26  28x27  28x28  \n",
       "0      0      0      0      0      0      0      0      0  \n",
       "1      0      0      0      0      0      0      0      0  \n",
       "2      0      0      0      0      0      0      0      0  \n",
       "3      0      0      0      0      0      0      0      0  \n",
       "4      0      0      0      0      0      0      0      0  \n",
       "\n",
       "[5 rows x 785 columns]"
      ]
     },
     "execution_count": 3,
     "metadata": {},
     "output_type": "execute_result"
    }
   ],
   "source": [
    "import numpy as np\n",
    "import pandas as pd\n",
    "import shutil\n",
    "\n",
    "shutil.unpack_archive('../1_data/mnist_train.zip', '../1_data/')\n",
    "shutil.unpack_archive('../1_data/mnist_test.zip', '../1_data/')\n",
    "\n",
    "with open('../1_data/mnist_train.csv') as f:\n",
    "    mnist_train = pd.read_csv(f)\n",
    "\n",
    "with open('../1_data//mnist_test.csv') as f:\n",
    "    mnist_test = pd.read_csv(f)\n",
    "\n",
    "# mnist_train.head()\n",
    "mnist_test.head()"
   ]
  },
  {
   "cell_type": "code",
   "execution_count": 4,
   "metadata": {},
   "outputs": [
    {
     "name": "stdout",
     "output_type": "stream",
     "text": [
      "(60000, 10)\n",
      "(10000, 10)\n"
     ]
    }
   ],
   "source": [
    "train_label_oh = pd.get_dummies(mnist_train['label'], columns=['label']).to_numpy()\n",
    "print(train_label_oh.shape)\n",
    "\n",
    "test_label_oh = pd.get_dummies(mnist_test['label'], columns=['label']).to_numpy()\n",
    "print(test_label_oh.shape)"
   ]
  },
  {
   "cell_type": "code",
   "execution_count": 5,
   "metadata": {},
   "outputs": [
    {
     "name": "stdout",
     "output_type": "stream",
     "text": [
      "train_data: (60000, 1, 28, 28)\n",
      "test_data: (10000, 1, 28, 28)\n"
     ]
    }
   ],
   "source": [
    "train_data = mnist_train.drop('label', axis=1).to_numpy()\n",
    "train_data_2D = train_data.reshape(60000, 1, 28, 28)\n",
    "\n",
    "test_data = mnist_test.drop('label', axis=1).to_numpy()\n",
    "test_data_2D = test_data.reshape(10000, 1, 28, 28)\n",
    "\n",
    "print(f'train_data: {train_data_2D.shape}')\n",
    "print(f'test_data: {test_data_2D.shape}')"
   ]
  },
  {
   "cell_type": "code",
   "execution_count": 6,
   "metadata": {},
   "outputs": [],
   "source": [
    "class LeNet5:\n",
    "    def __init__(self, input_dim=(1, 28, 28), \n",
    "                 conv1_param={'filter_num':6, 'filter_size':5, 'pad':2, 'stride':1},\n",
    "                 pool1_param={'pool_size':2, 'pad':0, 'stride':2},\n",
    "                 conv2_param={'filter_num':16, 'filter_size':5, 'pad':0, 'stride':1},\n",
    "                 pool2_param={'pool_size':2, 'pad':0, 'stride':2},\n",
    "                 fc1_param={'input_size': 400, 'output_size': 120},\n",
    "                 fc2_param={'input_size': 120, 'output_size': 84},\n",
    "                 fc3_param={'input_size': 84, 'output_size': 10},\n",
    "                 hidden_size=100, output_size=10, weight_init_std=0.01):\n",
    "        \"\"\"\n",
    "        input_size : tuple, 入力の配列形状(チャンネル数、画像の高さ、画像の幅)\n",
    "        conv_param : dict, 畳み込みの条件\n",
    "        pool_param : dict, プーリングの条件\n",
    "        hidden_size : int, 隠れ層のノード数\n",
    "        output_size : int, 出力層のノード数\n",
    "        weight_init_std ： float, 重みWを初期化する際に用いる標準偏差\n",
    "        \"\"\"\n",
    "                \n",
    "        filter1_num = conv1_param['filter_num']\n",
    "        filter1_size = conv1_param['filter_size']\n",
    "        filter1_pad = conv1_param['pad']\n",
    "        filter1_stride = conv1_param['stride']\n",
    "        \n",
    "        pool1_size = pool1_param['pool_size']\n",
    "        pool1_pad = pool1_param['pad']\n",
    "        pool1_stride = pool1_param['stride']\n",
    "        \n",
    "        filter2_num = conv2_param['filter_num']\n",
    "        filter2_size = conv2_param['filter_size']\n",
    "        filter2_pad = conv2_param['pad']\n",
    "        filter2_stride = conv2_param['stride']\n",
    "        \n",
    "        pool2_size = pool2_param['pool_size']\n",
    "        pool2_pad = pool2_param['pad']\n",
    "        pool2_stride = pool2_param['stride']\n",
    "        \n",
    "        input_size = input_dim[1]\n",
    "        print(f'input_size is : {input_size}')\n",
    "        conv1_output_size = (input_size + 2*filter1_pad - filter1_size) // filter1_stride + 1 # 畳み込み後のサイズ(H,W共通)\n",
    "        print(f'conv1_output_size is: {conv1_output_size}')\n",
    "        pool1_output_size = (conv1_output_size + 2*pool1_pad - pool1_size) // pool1_stride + 1 # プーリング後のサイズ(H,W共通)\n",
    "        print(f'pool1_output_size is: {pool1_output_size}')\n",
    "        pool1_output_pixel = filter1_num * pool1_output_size * pool1_output_size # プーリング後のピクセル総数\n",
    "        print(f'pool1_output_pixel is: {pool1_output_pixel}')\n",
    "        \n",
    "        conv2_output_size = (pool1_output_size + 2*filter2_pad - filter2_size) // filter2_stride + 1 # 畳み込み後のサイズ(H,W共通)\n",
    "        print(f'conv2_output_size is: {conv2_output_size}')\n",
    "        pool2_output_size = (conv2_output_size + 2*pool2_pad - pool2_size) // pool2_stride + 1 # プーリング後のサイズ(H,W共通)\n",
    "        print(f'pool2_output_size is: {pool2_output_size}')\n",
    "        pool2_output_pixel = filter2_num * pool2_output_size * pool2_output_size # プーリング後のピクセル総数\n",
    "        print(f'pool2_output_pixel is: {pool2_output_pixel}')\n",
    "        \n",
    "        fc1_output_size = fc1_param['output_size']\n",
    "        fc2_output_size = fc2_param['output_size']\n",
    "        fc3_output_size = fc3_param['output_size']\n",
    "        \n",
    "        # 重みの初期化\n",
    "        self.params = {}\n",
    "        std = weight_init_std\n",
    "        self.params['W1'] = np.sqrt(2.0 / (input_dim[0] * filter1_size * filter1_size)) * np.random.randn(filter1_num, input_dim[0], filter1_size, filter1_size) # W1は畳み込みフィルターの重みになる\n",
    "        self.params['b1'] = np.zeros(filter1_num) #b1は畳み込みフィルターのバイアスになる\n",
    "        \n",
    "        self.params['W2'] = np.sqrt(2.0 / (filter1_num * filter2_size * filter2_size)) * np.random.randn(filter2_num, filter1_num, filter2_size, filter2_size) # W2は畳み込みフィルターの重みになる\n",
    "        self.params['b2'] = np.zeros(filter2_num) #b2は畳み込みフィルターのバイアスになる\n",
    "        \n",
    "        self.params['W3'] = np.sqrt(2.0 / pool2_output_pixel) *  np.random.randn(pool2_output_pixel, fc1_output_size)\n",
    "        self.params['b3'] = np.zeros(fc1_output_size)\n",
    "        \n",
    "        self.params['W4'] = np.sqrt(2.0 / fc1_output_size) *  np.random.randn(fc1_output_size, fc2_output_size)\n",
    "        self.params['b4'] = np.zeros(fc2_output_size)\n",
    "        \n",
    "        self.params['W5'] = np.sqrt(2.0 / fc2_output_size) *  np.random.randn(fc2_output_size, fc3_output_size)\n",
    "        self.params['b5'] = np.zeros(fc3_output_size)\n",
    "\n",
    "        # レイヤの生成\n",
    "        self.layers = OrderedDict()\n",
    "        self.layers['Conv1'] = Convolution(self.params['W1'], self.params['b1'],\n",
    "                                           conv1_param['stride'], conv1_param['pad']) # W1が畳み込みフィルターの重み, b1が畳み込みフィルターのバイアスになる\n",
    "        self.layers['ReLU1'] = ReLU()\n",
    "        self.layers['Pool1'] = MaxPooling(pool_h=pool1_size, pool_w=pool1_size, stride=pool1_stride, pad=pool1_pad)\n",
    "        \n",
    "        self.layers['Conv2'] = Convolution(self.params['W2'], self.params['b2'],\n",
    "                                           conv2_param['stride'], conv2_param['pad']) # W1が畳み込みフィルターの重み, b1が畳み込みフィルターのバイアスになる\n",
    "        self.layers['ReLU2'] = ReLU()\n",
    "        self.layers['Pool2'] = MaxPooling(pool_h=pool2_size, pool_w=pool2_size, stride=pool2_stride, pad=pool2_pad)                            \n",
    "        \n",
    "        # TODO Flattenを定義する                            \n",
    "#         self.layers['Flatten'] = Flatten() \n",
    "        \n",
    "        self.layers['Affine1'] = Affine(self.params['W3'], self.params['b3'])\n",
    "        self.layers['ReLU3'] = ReLU()\n",
    "        self.layers['Affine2'] = Affine(self.params['W4'], self.params['b4'])\n",
    "        self.layers['ReLU4'] = ReLU()                               \n",
    "        self.layers['Affine3'] = Affine(self.params['W5'], self.params['b5'])\n",
    "\n",
    "        self.last_layer = SoftmaxWithLoss()\n",
    "\n",
    "    def predict(self, x):\n",
    "        for layer in self.layers.values():\n",
    "            x = layer.forward(x)\n",
    "\n",
    "        return x\n",
    "    \n",
    "    def predict_label(self, x):\n",
    "        y = self.predict(x)\n",
    "        y = np.argmax(y, axis=1)\n",
    "        return y\n",
    "\n",
    "    def loss(self, x, t):\n",
    "        \"\"\"\n",
    "        損失関数\n",
    "        x : 入力データ\n",
    "        t : 教師データ\n",
    "        \"\"\"\n",
    "        y = self.predict(x)\n",
    "        return self.last_layer.forward(y, t)\n",
    "\n",
    "    def accuracy(self, x, t, batch_size=100):\n",
    "        if t.ndim != 1 : t = np.argmax(t, axis=1)\n",
    "        \n",
    "        acc = 0.0\n",
    "        \n",
    "        for i in range(int(x.shape[0] / batch_size)):\n",
    "            tx = x[i*batch_size:(i+1)*batch_size]\n",
    "            tt = t[i*batch_size:(i+1)*batch_size]\n",
    "            y = self.predict(tx)\n",
    "            y = np.argmax(y, axis=1)\n",
    "            acc += np.sum(y == tt) \n",
    "        \n",
    "        return acc / x.shape[0]\n",
    "\n",
    "    def gradient(self, x, t):\n",
    "        \"\"\"勾配を求める（誤差逆伝播法）\n",
    "        Parameters\n",
    "        ----------\n",
    "        x : 入力データ\n",
    "        t : 教師データ\n",
    "        Returns\n",
    "        -------\n",
    "        各層の勾配を持ったディクショナリ変数\n",
    "            grads['W1']、grads['W2']、...は各層の重み\n",
    "            grads['b1']、grads['b2']、...は各層のバイアス\n",
    "        \"\"\"\n",
    "        # forward\n",
    "        self.loss(x, t)\n",
    "\n",
    "        # backward\n",
    "        dout = 1\n",
    "        dout = self.last_layer.backward(dout)\n",
    "\n",
    "        layers = list(self.layers.values())\n",
    "        layers.reverse()\n",
    "        for layer in layers:\n",
    "            dout = layer.backward(dout)\n",
    "\n",
    "        # 設定\n",
    "        grads = {}\n",
    "        grads['W1'], grads['b1'] = self.layers['Conv1'].dW, self.layers['Conv1'].db\n",
    "        grads['W2'], grads['b2'] = self.layers['Conv2'].dW, self.layers['Conv2'].db\n",
    "        grads['W3'], grads['b3'] = self.layers['Affine1'].dW, self.layers['Affine1'].db\n",
    "        grads['W4'], grads['b4'] = self.layers['Affine2'].dW, self.layers['Affine2'].db\n",
    "        grads['W5'], grads['b5'] = self.layers['Affine3'].dW, self.layers['Affine3'].db\n",
    "        \n",
    "\n",
    "        return grads"
   ]
  },
  {
   "cell_type": "code",
   "execution_count": null,
   "metadata": {},
   "outputs": [
    {
     "name": "stderr",
     "output_type": "stream",
     "text": [
      "/tmp/ipykernel_6232/1729586232.py:16: DeprecationWarning: `np.int` is a deprecated alias for the builtin `int`. To silence this warning, use `int` by itself. Doing this will not modify any behavior and is safe. When replacing `np.int`, you may wish to use e.g. `np.int64` or `np.int32` to specify the precision. If you wish to review your current use, check the release note link for additional information.\n",
      "Deprecated in NumPy 1.20; for more details and guidance: https://numpy.org/devdocs/release/1.20.0-notes.html#deprecations\n",
      "  iter_num = np.ceil(xsize / batch_size).astype(np.int)\n"
     ]
    },
    {
     "name": "stdout",
     "output_type": "stream",
     "text": [
      "input_size is : 28\n",
      "conv1_output_size is: 28\n",
      "pool1_output_size is: 14\n",
      "pool1_output_pixel is: 1176\n",
      "conv2_output_size is: 10\n",
      "pool2_output_size is: 5\n",
      "pool2_output_pixel is: 400\n",
      "epoch=0\n",
      "it= 0\n",
      "it= 1\n",
      "it= 2\n",
      "it= 3\n",
      "it= 4\n",
      "it= 5\n",
      "it= 6\n",
      "it= 7\n",
      "it= 8\n",
      "it= 9\n",
      "it= 10\n",
      "it= 11\n",
      "it= 12\n",
      "it= 13\n",
      "it= 14\n",
      "it= 15\n",
      "it= 16\n",
      "it= 17\n",
      "it= 18\n",
      "it= 19\n",
      "it= 20\n",
      "it= 21\n",
      "it= 22\n",
      "it= 23\n",
      "it= 24\n",
      "it= 25\n",
      "it= 26\n",
      "it= 27\n",
      "it= 28\n",
      "it= 29\n",
      "it= 30\n",
      "it= 31\n",
      "it= 32\n",
      "it= 33\n",
      "it= 34\n",
      "it= 35\n",
      "it= 36\n",
      "it= 37\n",
      "it= 38\n",
      "it= 39\n",
      "it= 40\n",
      "it= 41\n",
      "it= 42\n",
      "it= 43\n",
      "it= 44\n",
      "it= 45\n",
      "it= 46\n",
      "it= 47\n",
      "it= 48\n",
      "it= 49\n",
      "it= 50\n",
      "it= 51\n",
      "it= 52\n",
      "it= 53\n",
      "it= 54\n",
      "it= 55\n",
      "it= 56\n",
      "it= 57\n",
      "it= 58\n",
      "it= 59\n",
      "it= 60\n",
      "it= 61\n",
      "it= 62\n",
      "it= 63\n",
      "it= 64\n",
      "it= 65\n",
      "it= 66\n",
      "it= 67\n",
      "it= 68\n",
      "it= 69\n",
      "it= 70\n",
      "it= 71\n",
      "it= 72\n",
      "it= 73\n",
      "it= 74\n",
      "it= 75\n",
      "it= 76\n",
      "it= 77\n",
      "it= 78\n",
      "it= 79\n",
      "it= 80\n",
      "it= 81\n",
      "it= 82\n",
      "it= 83\n",
      "it= 84\n",
      "it= 85\n",
      "it= 86\n",
      "it= 87\n",
      "it= 88\n",
      "it= 89\n",
      "it= 90\n",
      "it= 91\n",
      "it= 92\n",
      "it= 93\n",
      "it= 94\n",
      "it= 95\n",
      "it= 96\n",
      "it= 97\n",
      "it= 98\n",
      "it= 99\n",
      "it= 100\n",
      "it= 101\n",
      "it= 102\n",
      "it= 103\n",
      "it= 104\n",
      "it= 105\n",
      "it= 106\n",
      "it= 107\n",
      "it= 108\n",
      "it= 109\n",
      "it= 110\n",
      "it= 111\n",
      "it= 112\n",
      "it= 113\n",
      "it= 114\n",
      "it= 115\n",
      "it= 116\n",
      "it= 117\n",
      "it= 118\n",
      "it= 119\n",
      "it= 120\n",
      "it= 121\n",
      "it= 122\n",
      "it= 123\n",
      "it= 124\n",
      "it= 125\n",
      "it= 126\n",
      "it= 127\n",
      "it= 128\n",
      "it= 129\n",
      "it= 130\n",
      "it= 131\n",
      "it= 132\n",
      "it= 133\n",
      "it= 134\n",
      "it= 135\n",
      "it= 136\n",
      "it= 137\n",
      "it= 138\n",
      "it= 139\n",
      "it= 140\n",
      "it= 141\n",
      "it= 142\n",
      "it= 143\n",
      "it= 144\n",
      "it= 145\n",
      "it= 146\n",
      "it= 147\n",
      "it= 148\n",
      "it= 149\n",
      "it= 150\n",
      "it= 151\n",
      "it= 152\n",
      "it= 153\n",
      "it= 154\n",
      "it= 155\n",
      "it= 156\n",
      "it= 157\n",
      "it= 158\n",
      "it= 159\n",
      "it= 160\n",
      "it= 161\n",
      "it= 162\n",
      "it= 163\n",
      "it= 164\n",
      "it= 165\n",
      "it= 166\n",
      "it= 167\n",
      "it= 168\n",
      "it= 169\n",
      "it= 170\n",
      "it= 171\n",
      "it= 172\n",
      "it= 173\n",
      "it= 174\n",
      "it= 175\n",
      "it= 176\n",
      "it= 177\n",
      "it= 178\n",
      "it= 179\n",
      "it= 180\n",
      "it= 181\n",
      "it= 182\n",
      "it= 183\n",
      "it= 184\n",
      "it= 185\n",
      "it= 186\n",
      "it= 187\n",
      "it= 188\n",
      "it= 189\n",
      "it= 190\n",
      "it= 191\n",
      "it= 192\n",
      "it= 193\n",
      "it= 194\n",
      "it= 195\n",
      "it= 196\n",
      "it= 197\n",
      "it= 198\n",
      "it= 199\n",
      "it= 200\n",
      "it= 201\n",
      "it= 202\n",
      "it= 203\n",
      "it= 204\n",
      "it= 205\n",
      "it= 206\n",
      "it= 207\n",
      "it= 208\n",
      "it= 209\n",
      "it= 210\n",
      "it= 211\n",
      "it= 212\n",
      "it= 213\n",
      "it= 214\n",
      "it= 215\n",
      "it= 216\n",
      "it= 217\n",
      "it= 218\n",
      "it= 219\n",
      "it= 220\n",
      "it= 221\n",
      "it= 222\n",
      "it= 223\n",
      "it= 224\n",
      "it= 225\n",
      "it= 226\n",
      "it= 227\n",
      "it= 228\n",
      "it= 229\n",
      "it= 230\n",
      "it= 231\n",
      "it= 232\n",
      "it= 233\n",
      "it= 234\n",
      "it= 235\n",
      "it= 236\n",
      "it= 237\n",
      "it= 238\n",
      "it= 239\n",
      "it= 240\n",
      "it= 241\n",
      "it= 242\n",
      "it= 243\n",
      "it= 244\n",
      "it= 245\n",
      "it= 246\n",
      "it= 247\n",
      "it= 248\n",
      "it= 249\n",
      "it= 250\n",
      "it= 251\n",
      "it= 252\n",
      "it= 253\n",
      "it= 254\n",
      "it= 255\n",
      "it= 256\n",
      "it= 257\n",
      "it= 258\n",
      "it= 259\n",
      "it= 260\n",
      "it= 261\n",
      "it= 262\n",
      "it= 263\n",
      "it= 264\n",
      "it= 265\n",
      "it= 266\n",
      "it= 267\n",
      "it= 268\n",
      "it= 269\n",
      "it= 270\n",
      "it= 271\n",
      "it= 272\n",
      "it= 273\n",
      "it= 274\n",
      "it= 275\n",
      "it= 276\n",
      "it= 277\n",
      "it= 278\n",
      "it= 279\n",
      "it= 280\n",
      "it= 281\n",
      "it= 282\n",
      "it= 283\n",
      "it= 284\n",
      "it= 285\n",
      "it= 286\n",
      "it= 287\n",
      "it= 288\n",
      "it= 289\n",
      "it= 290\n",
      "it= 291\n",
      "it= 292\n",
      "it= 293\n",
      "it= 294\n",
      "it= 295\n",
      "it= 296\n",
      "it= 297\n",
      "it= 298\n",
      "it= 299\n",
      "it= 300\n",
      "it= 301\n",
      "it= 302\n",
      "it= 303\n",
      "it= 304\n",
      "it= 305\n",
      "it= 306\n",
      "it= 307\n",
      "it= 308\n",
      "it= 309\n",
      "it= 310\n",
      "it= 311\n",
      "it= 312\n",
      "it= 313\n",
      "it= 314\n",
      "it= 315\n",
      "it= 316\n",
      "it= 317\n",
      "it= 318\n",
      "it= 319\n",
      "it= 320\n",
      "it= 321\n",
      "it= 322\n",
      "it= 323\n",
      "it= 324\n",
      "it= 325\n",
      "it= 326\n",
      "it= 327\n",
      "it= 328\n",
      "it= 329\n",
      "it= 330\n",
      "it= 331\n",
      "it= 332\n",
      "it= 333\n",
      "it= 334\n",
      "it= 335\n",
      "it= 336\n",
      "it= 337\n",
      "it= 338\n",
      "it= 339\n",
      "it= 340\n",
      "it= 341\n",
      "it= 342\n",
      "it= 343\n",
      "it= 344\n",
      "it= 345\n",
      "it= 346\n",
      "it= 347\n",
      "it= 348\n",
      "it= 349\n",
      "it= 350\n",
      "it= 351\n",
      "it= 352\n",
      "it= 353\n",
      "it= 354\n",
      "it= 355\n",
      "it= 356\n",
      "it= 357\n",
      "it= 358\n",
      "it= 359\n",
      "it= 360\n",
      "it= 361\n",
      "it= 362\n",
      "it= 363\n",
      "it= 364\n",
      "it= 365\n",
      "it= 366\n",
      "it= 367\n",
      "it= 368\n",
      "it= 369\n",
      "it= 370\n",
      "it= 371\n",
      "it= 372\n",
      "it= 373\n",
      "it= 374\n",
      "it= 375\n",
      "it= 376\n",
      "it= 377\n",
      "it= 378\n",
      "it= 379\n",
      "it= 380\n",
      "it= 381\n",
      "it= 382\n",
      "it= 383\n",
      "it= 384\n",
      "it= 385\n",
      "it= 386\n",
      "it= 387\n",
      "it= 388\n",
      "it= 389\n",
      "it= 390\n",
      "it= 391\n",
      "it= 392\n",
      "it= 393\n",
      "it= 394\n",
      "it= 395\n",
      "it= 396\n",
      "it= 397\n",
      "it= 398\n",
      "it= 399\n",
      "it= 400\n",
      "it= 401\n",
      "it= 402\n",
      "it= 403\n",
      "it= 404\n",
      "it= 405\n",
      "it= 406\n",
      "it= 407\n",
      "it= 408\n",
      "it= 409\n",
      "it= 410\n",
      "it= 411\n",
      "it= 412\n",
      "it= 413\n",
      "it= 414\n",
      "it= 415\n",
      "it= 416\n",
      "it= 417\n",
      "it= 418\n",
      "it= 419\n",
      "it= 420\n",
      "it= 421\n",
      "it= 422\n",
      "it= 423\n",
      "it= 424\n",
      "it= 425\n",
      "it= 426\n",
      "it= 427\n",
      "it= 428\n",
      "it= 429\n",
      "it= 430\n",
      "it= 431\n",
      "it= 432\n",
      "it= 433\n",
      "it= 434\n",
      "it= 435\n",
      "it= 436\n",
      "it= 437\n",
      "it= 438\n",
      "it= 439\n",
      "it= 440\n",
      "it= 441\n",
      "it= 442\n",
      "it= 443\n",
      "it= 444\n",
      "it= 445\n",
      "it= 446\n",
      "it= 447\n",
      "it= 448\n",
      "it= 449\n",
      "it= 450\n",
      "it= 451\n",
      "it= 452\n",
      "it= 453\n",
      "it= 454\n",
      "it= 455\n",
      "it= 456\n",
      "it= 457\n",
      "it= 458\n",
      "it= 459\n",
      "it= 460\n",
      "it= 461\n",
      "it= 462\n",
      "it= 463\n",
      "it= 464\n",
      "it= 465\n",
      "it= 466\n",
      "it= 467\n",
      "it= 468\n",
      "it= 469\n",
      "it= 470\n",
      "it= 471\n",
      "it= 472\n",
      "it= 473\n",
      "it= 474\n",
      "it= 475\n",
      "it= 476\n",
      "it= 477\n",
      "it= 478\n",
      "it= 479\n",
      "it= 480\n",
      "it= 481\n",
      "it= 482\n",
      "it= 483\n",
      "it= 484\n",
      "it= 485\n",
      "it= 486\n",
      "it= 487\n",
      "it= 488\n",
      "it= 489\n",
      "it= 490\n",
      "it= 491\n",
      "it= 492\n",
      "it= 493\n",
      "it= 494\n",
      "it= 495\n",
      "it= 496\n",
      "it= 497\n",
      "it= 498\n",
      "it= 499\n",
      "it= 500\n",
      "it= 501\n",
      "it= 502\n",
      "it= 503\n",
      "it= 504\n",
      "it= 505\n",
      "it= 506\n",
      "it= 507\n",
      "it= 508\n",
      "it= 509\n",
      "it= 510\n",
      "it= 511\n",
      "it= 512\n",
      "it= 513\n",
      "it= 514\n",
      "it= 515\n",
      "it= 516\n",
      "it= 517\n",
      "it= 518\n",
      "it= 519\n",
      "it= 520\n",
      "it= 521\n",
      "it= 522\n",
      "it= 523\n",
      "it= 524\n",
      "it= 525\n",
      "it= 526\n",
      "it= 527\n",
      "it= 528\n",
      "it= 529\n",
      "it= 530\n",
      "it= 531\n",
      "it= 532\n",
      "it= 533\n",
      "it= 534\n",
      "it= 535\n",
      "it= 536\n",
      "it= 537\n",
      "it= 538\n",
      "it= 539\n",
      "it= 540\n",
      "it= 541\n",
      "it= 542\n",
      "it= 543\n",
      "it= 544\n",
      "it= 545\n",
      "it= 546\n",
      "it= 547\n",
      "it= 548\n",
      "it= 549\n",
      "it= 550\n",
      "it= 551\n",
      "it= 552\n",
      "it= 553\n",
      "it= 554\n",
      "it= 555\n",
      "it= 556\n",
      "it= 557\n",
      "it= 558\n",
      "it= 559\n",
      "it= 560\n",
      "it= 561\n",
      "it= 562\n",
      "it= 563\n",
      "it= 564\n",
      "it= 565\n",
      "it= 566\n",
      "it= 567\n",
      "it= 568\n",
      "it= 569\n",
      "it= 570\n",
      "it= 571\n",
      "it= 572\n",
      "it= 573\n",
      "it= 574\n",
      "it= 575\n",
      "it= 576\n",
      "it= 577\n",
      "it= 578\n",
      "it= 579\n",
      "it= 580\n",
      "it= 581\n",
      "it= 582\n",
      "it= 583\n",
      "it= 584\n",
      "it= 585\n",
      "it= 586\n",
      "it= 587\n",
      "it= 588\n",
      "it= 589\n",
      "it= 590\n",
      "it= 591\n",
      "it= 592\n",
      "it= 593\n",
      "it= 594\n",
      "it= 595\n",
      "it= 596\n",
      "it= 597\n",
      "it= 598\n",
      "it= 599\n"
     ]
    }
   ],
   "source": [
    "x = train_data_2D\n",
    "t = train_label_oh\n",
    "test = test_data_2D\n",
    "test_labels = test_label_oh\n",
    "\n",
    "x = x.reshape(-1,1,28,28) # 配列形式の変形\n",
    "test = test.reshape(-1,1,28,28) # 配列形式の変形\n",
    "\n",
    "epochs = 10\n",
    "batch_size = 100\n",
    "\n",
    "optimizer = RMSProp(lr=0.01, rho=0.9)\n",
    "\n",
    "# 繰り返し回数\n",
    "xsize = x.shape[0]\n",
    "iter_num = np.ceil(xsize / batch_size).astype(np.int)\n",
    "\n",
    "\n",
    "# CNNのオブジェクト生成\n",
    "lenet = LeNet5(input_dim=(1, 28, 28), \n",
    "                 conv1_param={'filter_num':6, 'filter_size':5, 'pad':2, 'stride':1},\n",
    "                 pool1_param={'pool_size':2, 'pad':0, 'stride':2},\n",
    "                 conv2_param={'filter_num':16, 'filter_size':5, 'pad':0, 'stride':1},\n",
    "                 pool2_param={'pool_size':2, 'pad':0, 'stride':2},\n",
    "                 fc1_param={'input_size': 400, 'output_size': 120},\n",
    "                 fc2_param={'input_size': 120, 'output_size': 84},\n",
    "                 fc3_param={'input_size': 84, 'output_size': 10},\n",
    "                 hidden_size=100, output_size=10, weight_init_std=0.01)\n",
    "\n",
    "train_loss = []\n",
    "test_loss = []\n",
    "train_accuracy = []\n",
    "test_accuracy = []\n",
    "\n",
    "test_pred = []\n",
    "\n",
    "for epoch in range(epochs):\n",
    "    print(\"epoch=%s\"%epoch)\n",
    "\n",
    "    # シャッフル\n",
    "    idx = np.arange(xsize)\n",
    "    np.random.shuffle(idx)\n",
    "\n",
    "    for it in range(iter_num):\n",
    "        \"\"\"\n",
    "        ランダムなミニバッチを順番に取り出す\n",
    "        \"\"\"\n",
    "        print(\"it=\", it)\n",
    "        mask = idx[batch_size*it : batch_size*(it+1)]\n",
    "\n",
    "        # ミニバッチの生成\n",
    "        x_train = x[mask]\n",
    "        t_train = t[mask]\n",
    "\n",
    "        # 勾配の計算 (誤差逆伝播法を用いる) \n",
    "        grads = lenet.gradient(x_train, t_train)\n",
    "\n",
    "        # 更新\n",
    "        optimizer.update(lenet.params, grads)\n",
    "\n",
    "    ## 学習経過の記録\n",
    "\n",
    "    # 訓練データにおけるloss\n",
    "#     print(\"calculating train_loss\")    \n",
    "    train_loss.append(lenet.loss(x,  t))\n",
    "\n",
    "#     print(\"calculating test_loss\")\n",
    "    # テストデータにおけるloss\n",
    "    test_loss.append(lenet.loss(test, test_labels))\n",
    "\n",
    "#     print(\"calculating train_accuracy\")\n",
    "    # 訓練データにて精度を確認\n",
    "    train_accuracy.append(lenet.accuracy(x, t))\n",
    "    \n",
    "#     print(\"calculating test_accuracy\")\n",
    "    # テストデータにて精度を算出\n",
    "    test_accuracy.append(lenet.accuracy(test, test_labels))\n",
    "    \n",
    "    # テストデータの推論結果\n",
    "    test_pred.append(lenet.predict_label(test))"
   ]
  },
  {
   "cell_type": "code",
   "execution_count": null,
   "metadata": {},
   "outputs": [],
   "source": []
  }
 ],
 "metadata": {
  "colab": {
   "provenance": []
  },
  "kernelspec": {
   "display_name": "Python 3 (ipykernel)",
   "language": "python",
   "name": "python3"
  },
  "language_info": {
   "codemirror_mode": {
    "name": "ipython",
    "version": 3
   },
   "file_extension": ".py",
   "mimetype": "text/x-python",
   "name": "python",
   "nbconvert_exporter": "python",
   "pygments_lexer": "ipython3",
   "version": "3.9.12"
  }
 },
 "nbformat": 4,
 "nbformat_minor": 1
}
