{
 "cells": [
  {
   "cell_type": "markdown",
   "id": "ddd3f8c4",
   "metadata": {},
   "source": [
    "README"
   ]
  },
  {
   "cell_type": "markdown",
   "id": "c6bb2009",
   "metadata": {},
   "source": [
    "・データセットの中身を確認し、目視で判別できないデータがある\n",
    "\n",
    "・対策\n",
    "　データセットから当該データを削除する"
   ]
  },
  {
   "cell_type": "code",
   "execution_count": null,
   "id": "a5eb4d4b",
   "metadata": {},
   "outputs": [],
   "source": []
  }
 ],
 "metadata": {
  "kernelspec": {
   "display_name": "Python 3 (ipykernel)",
   "language": "python",
   "name": "python3"
  },
  "language_info": {
   "codemirror_mode": {
    "name": "ipython",
    "version": 3
   },
   "file_extension": ".py",
   "mimetype": "text/x-python",
   "name": "python",
   "nbconvert_exporter": "python",
   "pygments_lexer": "ipython3",
   "version": "3.9.12"
  }
 },
 "nbformat": 4,
 "nbformat_minor": 5
}
